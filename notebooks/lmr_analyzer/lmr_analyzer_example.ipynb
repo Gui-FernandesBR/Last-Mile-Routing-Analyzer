{
 "cells": [
  {
   "cell_type": "markdown",
   "metadata": {},
   "source": [
    "# Amazon Last-Mile Route Challenge Data Analysis\n",
    "by Guilherme Fernandes Alves, Oct 2022 "
   ]
  },
  {
   "cell_type": "code",
   "execution_count": 1,
   "metadata": {},
   "outputs": [],
   "source": [
    "%load_ext autoreload\n",
    "%autoreload 2"
   ]
  },
  {
   "cell_type": "code",
   "execution_count": 2,
   "metadata": {},
   "outputs": [],
   "source": [
    "from datetime import datetime\n",
    "\n",
    "import numpy as np\n",
    "import pandas as pd\n",
    "\n",
    "import lmr_analyzer as lmr\n"
   ]
  },
  {
   "cell_type": "markdown",
   "metadata": {},
   "source": [
    "# Testing lmr_analyzer library"
   ]
  },
  {
   "cell_type": "markdown",
   "metadata": {},
   "source": [
    "Testing package object definition"
   ]
  },
  {
   "cell_type": "code",
   "execution_count": 3,
   "metadata": {},
   "outputs": [
    {
     "data": {
      "text/plain": [
       "{'name': 'example_pck',\n",
       " 'dimensions': (25, 10, 7),\n",
       " 'status': 'delivered',\n",
       " 'weight': 1.5,\n",
       " 'price': 9.9,\n",
       " 'volume': 1750}"
      ]
     },
     "execution_count": 3,
     "metadata": {},
     "output_type": "execute_result"
    }
   ],
   "source": [
    "example_pck = lmr.package(\n",
    "    name=\"example_pck\",\n",
    "    dimensions=(25, 10, 7),  # width, height, length (cm)\n",
    "    status=\"delivered\",\n",
    "    weight=1.5,  # kg\n",
    "    price=9.90,  # $\n",
    ")\n",
    "\n",
    "example_pck.__dict__\n"
   ]
  },
  {
   "cell_type": "markdown",
   "metadata": {},
   "source": [
    "Testing stops objects definition"
   ]
  },
  {
   "cell_type": "code",
   "execution_count": 4,
   "metadata": {},
   "outputs": [
    {
     "data": {
      "text/plain": [
       "{'name': 'example_stp1',\n",
       " 'location': (0, 0),\n",
       " 'location_type': 'pickup',\n",
       " 'time_window': (datetime.datetime(2020, 1, 1, 8, 0),\n",
       "  datetime.datetime(2020, 1, 1, 8, 50)),\n",
       " 'packages': [<lmr_analyzer.package.package at 0x2349064eb60>],\n",
       " 'planned_service_time': 0,\n",
       " 'packages_list': [<lmr_analyzer.package.package at 0x2349064eb60>],\n",
       " 'delivery_time': datetime.timedelta(seconds=3000),\n",
       " 'number_of_packages': 1,\n",
       " 'number_of_delivered_packages': 1,\n",
       " 'number_of_rejected_packages': 0,\n",
       " 'number_of_attempted_packages': 0,\n",
       " 'number_of_to_be_delivered_packages': 0,\n",
       " 'total_volume_of_packages': 1750,\n",
       " 'average_volume_of_packages': 1750.0,\n",
       " 'total_volume_of_delivered_packages': [1750],\n",
       " 'total_volume_of_rejected_packages': [],\n",
       " 'total_volume_of_attempted_packages': [],\n",
       " 'total_volume_of_to_be_delivered_packages': []}"
      ]
     },
     "execution_count": 4,
     "metadata": {},
     "output_type": "execute_result"
    }
   ],
   "source": [
    "example_stp1 = lmr.stop(\n",
    "    name=\"example_stp1\",\n",
    "    location=(0, 0),  # lat, lon\n",
    "    location_type=\"pickup\",\n",
    "    time_window=(datetime(2020, 1, 1, 8, 0), datetime(2020, 1, 1, 8, 50)),\n",
    "    packages=[example_pck],\n",
    "    planned_service_time=0,\n",
    ")\n",
    "example_stp2 = lmr.stop(\n",
    "    name=\"example_stp2\",\n",
    "    location=(0, 0),\n",
    "    location_type=\"pickup\",\n",
    "    time_window=(datetime(2020, 1, 1, 9, 0), datetime(2020, 1, 1, 9, 10)),\n",
    "    packages=[example_pck],\n",
    "    planned_service_time=0,\n",
    ")\n",
    "example_stp1.__dict__\n"
   ]
  },
  {
   "cell_type": "markdown",
   "metadata": {},
   "source": [
    "Testing route objects definition"
   ]
  },
  {
   "cell_type": "code",
   "execution_count": 5,
   "metadata": {},
   "outputs": [
    {
     "data": {
      "text/plain": [
       "{'name': 'r1',\n",
       " 'stops': {'example_stp1': <lmr_analyzer.stop.stop at 0x2349064c970>,\n",
       "  'example_stp2': <lmr_analyzer.stop.stop at 0x2349064ea40>},\n",
       " 'departure_time': None,\n",
       " 'vehicle': None,\n",
       " 'stops_names': ['example_stp1', 'example_stp2'],\n",
       " 'number_of_stops': 2,\n",
       " 'actual_sequence': [<lmr_analyzer.stop.stop at 0x2349064c970>,\n",
       "  <lmr_analyzer.stop.stop at 0x2349064ea40>],\n",
       " 'number_of_actual_stops': 2,\n",
       " 'actual_sequence_names': ['example_stp1', 'example_stp2']}"
      ]
     },
     "execution_count": 5,
     "metadata": {},
     "output_type": "execute_result"
    }
   ],
   "source": [
    "r1 = lmr.route(\n",
    "    name=\"r1\",\n",
    "    stops=[example_stp1, example_stp2],\n",
    ")\n",
    "r1.set_actual_sequence([\"example_stp1\", \"example_stp2\"])\n",
    "r1.evaluate_route_scores()\n",
    "\n",
    "r1.__dict__\n"
   ]
  },
  {
   "cell_type": "code",
   "execution_count": 9,
   "metadata": {},
   "outputs": [
    {
     "data": {
      "text/plain": [
       "{'name': 'a1',\n",
       " 'routes': [<lmr_analyzer.route.route at 0x2349064ca60>],\n",
       " 'routes_dict': {'r1': <lmr_analyzer.route.route at 0x2349064ca60>}}"
      ]
     },
     "execution_count": 9,
     "metadata": {},
     "output_type": "execute_result"
    }
   ],
   "source": [
    "a1 = lmr.analysis(\n",
    "    name=\"a1\",\n",
    "    routes=[r1],\n",
    ")\n",
    "a1.__dict__\n"
   ]
  },
  {
   "cell_type": "markdown",
   "metadata": {},
   "source": [
    "# Serializing the data"
   ]
  },
  {
   "cell_type": "code",
   "execution_count": 3,
   "metadata": {},
   "outputs": [
    {
     "name": "stdout",
     "output_type": "stream",
     "text": [
      "package_data.json has been loaded in 27.90 seconds.\n",
      "route_data.json has been loaded in 16.10 seconds.\n",
      "actual_sequences.json has been loaded in 1.10 seconds.\n",
      "We are ready to proceed. All files have been loaded in 45.10 seconds.\n"
     ]
    }
   ],
   "source": [
    "db = lmr.amz_serializer(\n",
    "    root_directory=\"G:/Drives compartilhados/TF Eng Civil PTR - Guilherme_Felipe - 2022/1. BASES/AMAZON-ROUTING-CHALLENGE-2021/almrrc2021/almrrc2021-data-training/model_build_inputs\"\n",
    ")\n",
    "\n",
    "# Get some nicknames\n",
    "packages_dict, routes_dict = db.packages_dict, db.routes_dict\n"
   ]
  },
  {
   "cell_type": "code",
   "execution_count": 5,
   "metadata": {},
   "outputs": [
    {
     "name": "stdout",
     "output_type": "stream",
     "text": [
      "Number of routes in Los Angeles: 2876\n",
      "Number of routes in Seattle: 1079\n",
      "Number of routes in Chicago: 1002\n",
      "Number of routes in Boston: 929\n",
      "Number of routes in Austin: 214\n",
      "Total number of routes: 6100\n",
      "Percentage of routes in Los Angeles: 47.15%\n",
      "Percentage of routes in Seattle: 17.69%\n",
      "Percentage of routes in Chicago: 16.43%\n",
      "Percentage of routes in Boston: 15.23%\n",
      "Percentage of routes in Austin: 3.51%\n"
     ]
    }
   ],
   "source": [
    "def print_info_by_city():\n",
    "    s = 0\n",
    "    for city, dict in routes_dict.items():\n",
    "        print(\"Number of routes in {}: {}\".format(city, len(dict)))\n",
    "        s += len(dict)\n",
    "    print(\"Total number of routes: {}\".format(s))\n",
    "\n",
    "    # Print the percentage of each city\n",
    "    for city, dict in routes_dict.items():\n",
    "        print(\"Percentage of routes in {}: {:.2f}%\".format(city, len(dict) / s * 100))\n",
    "\n",
    "\n",
    "print_info_by_city()\n"
   ]
  },
  {
   "cell_type": "code",
   "execution_count": 15,
   "metadata": {},
   "outputs": [],
   "source": [
    "def export_routes_to_csv():\n",
    "    # Write Los Angeles coordinates to a file\n",
    "    with open(\"la_coordinates.csv\", \"w\") as f:\n",
    "        # Write header\n",
    "        f.write(\"route,stop,lat,lon,distance_to_next_stop(km),duration(min)\\n\")\n",
    "        # Iterate over routes\n",
    "        for route in routes_dict[\"Los Angeles\"].values():\n",
    "            for stop in route.actual_sequence:\n",
    "                f.write(\n",
    "                    \"{},{},{},{},-,-\\n\".format(\n",
    "                        route.name, stop.name, stop.location[0], stop.location[1]\n",
    "                    )\n",
    "                )\n",
    "\n",
    "\n",
    "# export_routes_to_csv()\n"
   ]
  },
  {
   "cell_type": "markdown",
   "metadata": {},
   "source": [
    "# Analyze the data"
   ]
  },
  {
   "cell_type": "markdown",
   "metadata": {},
   "source": [
    "Calculate drive distance for a number of stops"
   ]
  },
  {
   "cell_type": "code",
   "execution_count": 8,
   "metadata": {},
   "outputs": [],
   "source": [
    "los_angeles = lmr.analysis(\n",
    "    name=\"los_angeles\",\n",
    "    routes=list(routes_dict[\"Los Angeles\"].values()),\n",
    ")\n"
   ]
  },
  {
   "cell_type": "code",
   "execution_count": 28,
   "metadata": {},
   "outputs": [],
   "source": [
    "def summarize_route_status_by_routes(analysis):\n",
    "    \"\"\"Summarize the status of the routes in the analysis. Each route will be\n",
    "    represented by its centroid.\n",
    "\n",
    "    Parameters\n",
    "    ----------\n",
    "    analysis : lmr.analysis\n",
    "        An analysis object\n",
    "    \"\"\"\n",
    "    for _, route in enumerate(analysis.routes):\n",
    "        route.evaluate_route_status()\n",
    "        route.calculate_route_centroid()\n",
    "\n",
    "    master = {}\n",
    "\n",
    "    for _, route in enumerate(analysis.routes):\n",
    "        master[route.name] = {\n",
    "            \"centroid_lat\": route.actual_sequence_centroid[0],\n",
    "            \"centroid_lon\": route.actual_sequence_centroid[1],\n",
    "            \"number_of_packages\": route.number_of_packages,\n",
    "            \"number_of_delivery_stops\": route.number_of_delivery_stops,\n",
    "            \"number_of_delivered_packages\": route.number_of_delivered_packages,\n",
    "            \"number_of_rejected_packages\": route.number_of_rejected_packages,\n",
    "            \"number_of_attempted_packages\": route.number_of_attempted_packages,\n",
    "            \"avg_packages_per_stop\": route.avg_packages_per_stop,\n",
    "            \"rejected_packages_percentage\": route.rejected_packages_percentage,\n",
    "            \"delivered_packages_percentage\": route.delivered_packages_percentage,\n",
    "            \"attempted_packages_percentage\": route.attempted_packages_percentage,\n",
    "        }\n",
    "\n",
    "    return master\n",
    "\n",
    "\n",
    "master = summarize_route_status_by_routes(los_angeles)\n"
   ]
  },
  {
   "cell_type": "code",
   "execution_count": 32,
   "metadata": {},
   "outputs": [
    {
     "data": {
      "text/html": [
       "<div>\n",
       "<style scoped>\n",
       "    .dataframe tbody tr th:only-of-type {\n",
       "        vertical-align: middle;\n",
       "    }\n",
       "\n",
       "    .dataframe tbody tr th {\n",
       "        vertical-align: top;\n",
       "    }\n",
       "\n",
       "    .dataframe thead th {\n",
       "        text-align: right;\n",
       "    }\n",
       "</style>\n",
       "<table border=\"1\" class=\"dataframe\">\n",
       "  <thead>\n",
       "    <tr style=\"text-align: right;\">\n",
       "      <th></th>\n",
       "      <th>centroid_lat</th>\n",
       "      <th>centroid_lon</th>\n",
       "      <th>number_of_packages</th>\n",
       "      <th>number_of_delivery_stops</th>\n",
       "      <th>number_of_delivered_packages</th>\n",
       "      <th>number_of_rejected_packages</th>\n",
       "      <th>number_of_attempted_packages</th>\n",
       "      <th>avg_packages_per_stop</th>\n",
       "      <th>rejected_packages_percentage</th>\n",
       "      <th>delivered_packages_percentage</th>\n",
       "      <th>attempted_packages_percentage</th>\n",
       "    </tr>\n",
       "  </thead>\n",
       "  <tbody>\n",
       "    <tr>\n",
       "      <th>RouteID_00143bdd-0a6b-49ec-bb35-36593d303e77</th>\n",
       "      <td>34.096104</td>\n",
       "      <td>-118.284632</td>\n",
       "      <td>276</td>\n",
       "      <td>119</td>\n",
       "      <td>274</td>\n",
       "      <td>0</td>\n",
       "      <td>2</td>\n",
       "      <td>2.319328</td>\n",
       "      <td>0.0</td>\n",
       "      <td>0.992754</td>\n",
       "      <td>0.007246</td>\n",
       "    </tr>\n",
       "    <tr>\n",
       "      <th>RouteID_001b4ee3-c4f2-467f-932b-c85524d1021f</th>\n",
       "      <td>33.823830</td>\n",
       "      <td>-118.055348</td>\n",
       "      <td>241</td>\n",
       "      <td>142</td>\n",
       "      <td>241</td>\n",
       "      <td>0</td>\n",
       "      <td>0</td>\n",
       "      <td>1.697183</td>\n",
       "      <td>0.0</td>\n",
       "      <td>1.000000</td>\n",
       "      <td>0.000000</td>\n",
       "    </tr>\n",
       "    <tr>\n",
       "      <th>RouteID_0021a2aa-780f-460d-b09a-f301709e2523</th>\n",
       "      <td>33.852298</td>\n",
       "      <td>-117.773443</td>\n",
       "      <td>219</td>\n",
       "      <td>155</td>\n",
       "      <td>218</td>\n",
       "      <td>0</td>\n",
       "      <td>1</td>\n",
       "      <td>1.412903</td>\n",
       "      <td>0.0</td>\n",
       "      <td>0.995434</td>\n",
       "      <td>0.004566</td>\n",
       "    </tr>\n",
       "    <tr>\n",
       "      <th>RouteID_00575ca4-8a63-49d2-96c8-9b347be5ba6c</th>\n",
       "      <td>34.105233</td>\n",
       "      <td>-118.307342</td>\n",
       "      <td>211</td>\n",
       "      <td>59</td>\n",
       "      <td>204</td>\n",
       "      <td>0</td>\n",
       "      <td>7</td>\n",
       "      <td>3.576271</td>\n",
       "      <td>0.0</td>\n",
       "      <td>0.966825</td>\n",
       "      <td>0.033175</td>\n",
       "    </tr>\n",
       "    <tr>\n",
       "      <th>RouteID_00595235-52e7-4b68-883c-70482701dea0</th>\n",
       "      <td>33.994934</td>\n",
       "      <td>-118.415288</td>\n",
       "      <td>274</td>\n",
       "      <td>129</td>\n",
       "      <td>273</td>\n",
       "      <td>0</td>\n",
       "      <td>1</td>\n",
       "      <td>2.124031</td>\n",
       "      <td>0.0</td>\n",
       "      <td>0.996350</td>\n",
       "      <td>0.003650</td>\n",
       "    </tr>\n",
       "  </tbody>\n",
       "</table>\n",
       "</div>"
      ],
      "text/plain": [
       "                                              centroid_lat  centroid_lon  \\\n",
       "RouteID_00143bdd-0a6b-49ec-bb35-36593d303e77     34.096104   -118.284632   \n",
       "RouteID_001b4ee3-c4f2-467f-932b-c85524d1021f     33.823830   -118.055348   \n",
       "RouteID_0021a2aa-780f-460d-b09a-f301709e2523     33.852298   -117.773443   \n",
       "RouteID_00575ca4-8a63-49d2-96c8-9b347be5ba6c     34.105233   -118.307342   \n",
       "RouteID_00595235-52e7-4b68-883c-70482701dea0     33.994934   -118.415288   \n",
       "\n",
       "                                              number_of_packages  \\\n",
       "RouteID_00143bdd-0a6b-49ec-bb35-36593d303e77                 276   \n",
       "RouteID_001b4ee3-c4f2-467f-932b-c85524d1021f                 241   \n",
       "RouteID_0021a2aa-780f-460d-b09a-f301709e2523                 219   \n",
       "RouteID_00575ca4-8a63-49d2-96c8-9b347be5ba6c                 211   \n",
       "RouteID_00595235-52e7-4b68-883c-70482701dea0                 274   \n",
       "\n",
       "                                              number_of_delivery_stops  \\\n",
       "RouteID_00143bdd-0a6b-49ec-bb35-36593d303e77                       119   \n",
       "RouteID_001b4ee3-c4f2-467f-932b-c85524d1021f                       142   \n",
       "RouteID_0021a2aa-780f-460d-b09a-f301709e2523                       155   \n",
       "RouteID_00575ca4-8a63-49d2-96c8-9b347be5ba6c                        59   \n",
       "RouteID_00595235-52e7-4b68-883c-70482701dea0                       129   \n",
       "\n",
       "                                              number_of_delivered_packages  \\\n",
       "RouteID_00143bdd-0a6b-49ec-bb35-36593d303e77                           274   \n",
       "RouteID_001b4ee3-c4f2-467f-932b-c85524d1021f                           241   \n",
       "RouteID_0021a2aa-780f-460d-b09a-f301709e2523                           218   \n",
       "RouteID_00575ca4-8a63-49d2-96c8-9b347be5ba6c                           204   \n",
       "RouteID_00595235-52e7-4b68-883c-70482701dea0                           273   \n",
       "\n",
       "                                              number_of_rejected_packages  \\\n",
       "RouteID_00143bdd-0a6b-49ec-bb35-36593d303e77                            0   \n",
       "RouteID_001b4ee3-c4f2-467f-932b-c85524d1021f                            0   \n",
       "RouteID_0021a2aa-780f-460d-b09a-f301709e2523                            0   \n",
       "RouteID_00575ca4-8a63-49d2-96c8-9b347be5ba6c                            0   \n",
       "RouteID_00595235-52e7-4b68-883c-70482701dea0                            0   \n",
       "\n",
       "                                              number_of_attempted_packages  \\\n",
       "RouteID_00143bdd-0a6b-49ec-bb35-36593d303e77                             2   \n",
       "RouteID_001b4ee3-c4f2-467f-932b-c85524d1021f                             0   \n",
       "RouteID_0021a2aa-780f-460d-b09a-f301709e2523                             1   \n",
       "RouteID_00575ca4-8a63-49d2-96c8-9b347be5ba6c                             7   \n",
       "RouteID_00595235-52e7-4b68-883c-70482701dea0                             1   \n",
       "\n",
       "                                              avg_packages_per_stop  \\\n",
       "RouteID_00143bdd-0a6b-49ec-bb35-36593d303e77               2.319328   \n",
       "RouteID_001b4ee3-c4f2-467f-932b-c85524d1021f               1.697183   \n",
       "RouteID_0021a2aa-780f-460d-b09a-f301709e2523               1.412903   \n",
       "RouteID_00575ca4-8a63-49d2-96c8-9b347be5ba6c               3.576271   \n",
       "RouteID_00595235-52e7-4b68-883c-70482701dea0               2.124031   \n",
       "\n",
       "                                              rejected_packages_percentage  \\\n",
       "RouteID_00143bdd-0a6b-49ec-bb35-36593d303e77                           0.0   \n",
       "RouteID_001b4ee3-c4f2-467f-932b-c85524d1021f                           0.0   \n",
       "RouteID_0021a2aa-780f-460d-b09a-f301709e2523                           0.0   \n",
       "RouteID_00575ca4-8a63-49d2-96c8-9b347be5ba6c                           0.0   \n",
       "RouteID_00595235-52e7-4b68-883c-70482701dea0                           0.0   \n",
       "\n",
       "                                              delivered_packages_percentage  \\\n",
       "RouteID_00143bdd-0a6b-49ec-bb35-36593d303e77                       0.992754   \n",
       "RouteID_001b4ee3-c4f2-467f-932b-c85524d1021f                       1.000000   \n",
       "RouteID_0021a2aa-780f-460d-b09a-f301709e2523                       0.995434   \n",
       "RouteID_00575ca4-8a63-49d2-96c8-9b347be5ba6c                       0.966825   \n",
       "RouteID_00595235-52e7-4b68-883c-70482701dea0                       0.996350   \n",
       "\n",
       "                                              attempted_packages_percentage  \n",
       "RouteID_00143bdd-0a6b-49ec-bb35-36593d303e77                       0.007246  \n",
       "RouteID_001b4ee3-c4f2-467f-932b-c85524d1021f                       0.000000  \n",
       "RouteID_0021a2aa-780f-460d-b09a-f301709e2523                       0.004566  \n",
       "RouteID_00575ca4-8a63-49d2-96c8-9b347be5ba6c                       0.033175  \n",
       "RouteID_00595235-52e7-4b68-883c-70482701dea0                       0.003650  "
      ]
     },
     "execution_count": 32,
     "metadata": {},
     "output_type": "execute_result"
    }
   ],
   "source": [
    "master_pd = pd.DataFrame.from_dict(master, orient=\"index\")\n",
    "master_pd.head()\n"
   ]
  },
  {
   "cell_type": "code",
   "execution_count": 34,
   "metadata": {},
   "outputs": [],
   "source": [
    "master_pd.to_csv(\"master_pd_los_angeles_v1.csv\")\n"
   ]
  },
  {
   "cell_type": "code",
   "execution_count": null,
   "metadata": {},
   "outputs": [],
   "source": [
    "los_angeles.analyze()\n"
   ]
  }
 ],
 "metadata": {
  "kernelspec": {
   "display_name": "Python 3.10.0 64-bit",
   "language": "python",
   "name": "python3"
  },
  "language_info": {
   "codemirror_mode": {
    "name": "ipython",
    "version": 3
   },
   "file_extension": ".py",
   "mimetype": "text/x-python",
   "name": "python",
   "nbconvert_exporter": "python",
   "pygments_lexer": "ipython3",
   "version": "3.10.0"
  },
  "orig_nbformat": 4,
  "vscode": {
   "interpreter": {
    "hash": "26de051ba29f2982a8de78e945f0abaf191376122a1563185a90213a26c5da77"
   }
  }
 },
 "nbformat": 4,
 "nbformat_minor": 2
}
