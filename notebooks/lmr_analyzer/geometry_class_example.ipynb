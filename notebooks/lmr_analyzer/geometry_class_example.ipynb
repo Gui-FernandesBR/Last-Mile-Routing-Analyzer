{
 "cells": [
  {
   "cell_type": "markdown",
   "metadata": {},
   "source": [
    "# lmr_analyzer.geometry module usage example\n",
    "\n",
    "by Guilherme Fernandes Alves, October 2022"
   ]
  },
  {
   "cell_type": "code",
   "execution_count": 1,
   "metadata": {},
   "outputs": [],
   "source": [
    "%load_ext autoreload\n",
    "%autoreload 2\n",
    "%matplotlib inline\n"
   ]
  },
  {
   "cell_type": "markdown",
   "metadata": {},
   "source": [
    "Import required modules:"
   ]
  },
  {
   "cell_type": "code",
   "execution_count": 2,
   "metadata": {},
   "outputs": [],
   "source": [
    "from lmr_analyzer import geometry\n",
    "import matplotlib.pyplot as plt\n"
   ]
  },
  {
   "cell_type": "markdown",
   "metadata": {},
   "source": [
    "Initialize the geometry object:"
   ]
  },
  {
   "cell_type": "code",
   "execution_count": 13,
   "metadata": {},
   "outputs": [
    {
     "data": {
      "text/plain": [
       "'Completed 179 graphs using a total CPU time of: 363.5 s'"
      ]
     },
     "metadata": {},
     "output_type": "display_data"
    },
    {
     "name": "stdout",
     "output_type": "stream",
     "text": [
      "It was possible to create a graph for 179 of 179 polygons.\n",
      "Shapefile quality: 100 %\n"
     ]
    }
   ],
   "source": [
    "los_angeles = geometry(\n",
    "    name=\"los_angeles\",\n",
    "    shapefile=\"../data/shapefiles/los_angeles_minors/los_angeles_minors.shp\",\n",
    ")\n"
   ]
  },
  {
   "cell_type": "markdown",
   "metadata": {},
   "source": [
    "If everything went good, let's get some good statistics:"
   ]
  },
  {
   "cell_type": "code",
   "execution_count": 26,
   "metadata": {},
   "outputs": [
    {
     "data": {
      "text/plain": [
       "'Completed 179 basic stats calculation using a total CPU time of: 671.2 s'"
      ]
     },
     "metadata": {},
     "output_type": "display_data"
    },
    {
     "name": "stdout",
     "output_type": "stream",
     "text": [
      "It was possible to create a graph for 179 of 179 polygons.\n",
      "Basic stats quality: 100 %\n"
     ]
    }
   ],
   "source": [
    "los_angeles.evaluate_basic_stats()\n"
   ]
  },
  {
   "cell_type": "markdown",
   "metadata": {},
   "source": [
    "To visualize the basic statistics we just calculated:"
   ]
  },
  {
   "cell_type": "code",
   "execution_count": 27,
   "metadata": {},
   "outputs": [
    {
     "data": {
      "text/html": [
       "<div>\n",
       "<style scoped>\n",
       "    .dataframe tbody tr th:only-of-type {\n",
       "        vertical-align: middle;\n",
       "    }\n",
       "\n",
       "    .dataframe tbody tr th {\n",
       "        vertical-align: top;\n",
       "    }\n",
       "\n",
       "    .dataframe thead th {\n",
       "        text-align: right;\n",
       "    }\n",
       "</style>\n",
       "<table border=\"1\" class=\"dataframe\">\n",
       "  <thead>\n",
       "    <tr style=\"text-align: right;\">\n",
       "      <th></th>\n",
       "      <th>n</th>\n",
       "      <th>m</th>\n",
       "      <th>k_avg</th>\n",
       "      <th>edge_length_total</th>\n",
       "      <th>edge_length_avg</th>\n",
       "      <th>streets_per_node_avg</th>\n",
       "      <th>streets_per_node_counts</th>\n",
       "      <th>streets_per_node_proportions</th>\n",
       "      <th>intersection_count</th>\n",
       "      <th>street_length_total</th>\n",
       "      <th>street_segment_count</th>\n",
       "      <th>street_length_avg</th>\n",
       "      <th>circuity_avg</th>\n",
       "      <th>self_loop_proportion</th>\n",
       "      <th>name</th>\n",
       "    </tr>\n",
       "  </thead>\n",
       "  <tbody>\n",
       "    <tr>\n",
       "      <th>Boyle Heights</th>\n",
       "      <td>5401</td>\n",
       "      <td>9698</td>\n",
       "      <td>3.591187</td>\n",
       "      <td>440323.724</td>\n",
       "      <td>45.403560</td>\n",
       "      <td>2.215145</td>\n",
       "      <td>{0: 0, 1: 122, 2: 4273, 3: 740, 4: 255, 5: 10,...</td>\n",
       "      <td>{0: 0.0, 1: 0.022588409553786336, 2: 0.7911497...</td>\n",
       "      <td>5279</td>\n",
       "      <td>262023.605</td>\n",
       "      <td>5926</td>\n",
       "      <td>44.215931</td>\n",
       "      <td>1.0</td>\n",
       "      <td>0.0</td>\n",
       "      <td>Boyle Heights</td>\n",
       "    </tr>\n",
       "    <tr>\n",
       "      <th>Granada Hills</th>\n",
       "      <td>6030</td>\n",
       "      <td>12102</td>\n",
       "      <td>4.013930</td>\n",
       "      <td>535131.315</td>\n",
       "      <td>44.218420</td>\n",
       "      <td>2.143781</td>\n",
       "      <td>{0: 0, 1: 299, 2: 4825, 3: 648, 4: 256, 5: 2}</td>\n",
       "      <td>{0: 0.0, 1: 0.04958540630182421, 2: 0.80016583...</td>\n",
       "      <td>5731</td>\n",
       "      <td>285924.820</td>\n",
       "      <td>6418</td>\n",
       "      <td>44.550455</td>\n",
       "      <td>1.0</td>\n",
       "      <td>0.0</td>\n",
       "      <td>Granada Hills</td>\n",
       "    </tr>\n",
       "    <tr>\n",
       "      <th>Mid-City</th>\n",
       "      <td>2602</td>\n",
       "      <td>4846</td>\n",
       "      <td>3.724827</td>\n",
       "      <td>243087.010</td>\n",
       "      <td>50.162404</td>\n",
       "      <td>2.281706</td>\n",
       "      <td>{0: 0, 1: 61, 2: 1981, 3: 330, 4: 226, 5: 4}</td>\n",
       "      <td>{0: 0.0, 1: 0.023443504996156803, 2: 0.7613374...</td>\n",
       "      <td>2541</td>\n",
       "      <td>138090.750</td>\n",
       "      <td>2904</td>\n",
       "      <td>47.551911</td>\n",
       "      <td>1.0</td>\n",
       "      <td>0.0</td>\n",
       "      <td>Mid-City</td>\n",
       "    </tr>\n",
       "    <tr>\n",
       "      <th>Mid-Wilshire</th>\n",
       "      <td>1746</td>\n",
       "      <td>3583</td>\n",
       "      <td>4.104238</td>\n",
       "      <td>177539.664</td>\n",
       "      <td>49.550562</td>\n",
       "      <td>2.361970</td>\n",
       "      <td>{0: 0, 1: 24, 2: 1312, 3: 180, 4: 216, 5: 12, ...</td>\n",
       "      <td>{0: 0.0, 1: 0.013745704467353952, 2: 0.7514318...</td>\n",
       "      <td>1722</td>\n",
       "      <td>95885.790</td>\n",
       "      <td>2010</td>\n",
       "      <td>47.704373</td>\n",
       "      <td>1.0</td>\n",
       "      <td>0.0</td>\n",
       "      <td>Mid-Wilshire</td>\n",
       "    </tr>\n",
       "    <tr>\n",
       "      <th>East La Mirada</th>\n",
       "      <td>605</td>\n",
       "      <td>1194</td>\n",
       "      <td>3.947107</td>\n",
       "      <td>75335.962</td>\n",
       "      <td>63.095446</td>\n",
       "      <td>2.224793</td>\n",
       "      <td>{0: 0, 1: 66, 2: 376, 3: 124, 4: 39}</td>\n",
       "      <td>{0: 0.0, 1: 0.10909090909090909, 2: 0.62148760...</td>\n",
       "      <td>539</td>\n",
       "      <td>39925.853</td>\n",
       "      <td>655</td>\n",
       "      <td>60.955501</td>\n",
       "      <td>1.0</td>\n",
       "      <td>0.0</td>\n",
       "      <td>East La</td>\n",
       "    </tr>\n",
       "  </tbody>\n",
       "</table>\n",
       "</div>"
      ],
      "text/plain": [
       "                   n      m     k_avg  edge_length_total  edge_length_avg  \\\n",
       "Boyle Heights   5401   9698  3.591187         440323.724        45.403560   \n",
       "Granada Hills   6030  12102  4.013930         535131.315        44.218420   \n",
       "Mid-City        2602   4846  3.724827         243087.010        50.162404   \n",
       "Mid-Wilshire    1746   3583  4.104238         177539.664        49.550562   \n",
       "East La Mirada   605   1194  3.947107          75335.962        63.095446   \n",
       "\n",
       "                streets_per_node_avg  \\\n",
       "Boyle Heights               2.215145   \n",
       "Granada Hills               2.143781   \n",
       "Mid-City                    2.281706   \n",
       "Mid-Wilshire                2.361970   \n",
       "East La Mirada              2.224793   \n",
       "\n",
       "                                          streets_per_node_counts  \\\n",
       "Boyle Heights   {0: 0, 1: 122, 2: 4273, 3: 740, 4: 255, 5: 10,...   \n",
       "Granada Hills       {0: 0, 1: 299, 2: 4825, 3: 648, 4: 256, 5: 2}   \n",
       "Mid-City             {0: 0, 1: 61, 2: 1981, 3: 330, 4: 226, 5: 4}   \n",
       "Mid-Wilshire    {0: 0, 1: 24, 2: 1312, 3: 180, 4: 216, 5: 12, ...   \n",
       "East La Mirada               {0: 0, 1: 66, 2: 376, 3: 124, 4: 39}   \n",
       "\n",
       "                                     streets_per_node_proportions  \\\n",
       "Boyle Heights   {0: 0.0, 1: 0.022588409553786336, 2: 0.7911497...   \n",
       "Granada Hills   {0: 0.0, 1: 0.04958540630182421, 2: 0.80016583...   \n",
       "Mid-City        {0: 0.0, 1: 0.023443504996156803, 2: 0.7613374...   \n",
       "Mid-Wilshire    {0: 0.0, 1: 0.013745704467353952, 2: 0.7514318...   \n",
       "East La Mirada  {0: 0.0, 1: 0.10909090909090909, 2: 0.62148760...   \n",
       "\n",
       "                intersection_count  street_length_total  street_segment_count  \\\n",
       "Boyle Heights                 5279           262023.605                  5926   \n",
       "Granada Hills                 5731           285924.820                  6418   \n",
       "Mid-City                      2541           138090.750                  2904   \n",
       "Mid-Wilshire                  1722            95885.790                  2010   \n",
       "East La Mirada                 539            39925.853                   655   \n",
       "\n",
       "                street_length_avg  circuity_avg  self_loop_proportion  \\\n",
       "Boyle Heights           44.215931           1.0                   0.0   \n",
       "Granada Hills           44.550455           1.0                   0.0   \n",
       "Mid-City                47.551911           1.0                   0.0   \n",
       "Mid-Wilshire            47.704373           1.0                   0.0   \n",
       "East La Mirada          60.955501           1.0                   0.0   \n",
       "\n",
       "                         name  \n",
       "Boyle Heights   Boyle Heights  \n",
       "Granada Hills   Granada Hills  \n",
       "Mid-City             Mid-City  \n",
       "Mid-Wilshire     Mid-Wilshire  \n",
       "East La Mirada        East La  "
      ]
     },
     "execution_count": 27,
     "metadata": {},
     "output_type": "execute_result"
    }
   ],
   "source": [
    "los_angeles.attribute_table.head()\n"
   ]
  },
  {
   "cell_type": "markdown",
   "metadata": {},
   "source": [
    "Saving as an .csv file:"
   ]
  },
  {
   "cell_type": "code",
   "execution_count": 29,
   "metadata": {},
   "outputs": [],
   "source": [
    "los_angeles.attribute_table.to_csv(\"los_angeles_boeing.csv\")\n"
   ]
  },
  {
   "cell_type": "markdown",
   "metadata": {},
   "source": [
    "For plotting each of the graphs we have used:"
   ]
  },
  {
   "cell_type": "code",
   "execution_count": 23,
   "metadata": {},
   "outputs": [
    {
     "name": "stdout",
     "output_type": "stream",
     "text": [
      "Graph 'Lopez/Kagel Canyons' could not be saved!\n",
      "Graph 'Baldwin Hills/Crenshaw' could not be saved!\n"
     ]
    }
   ],
   "source": [
    "los_angeles.plot_graphs(grid=False, savefig=True)\n",
    "# los_angeles.plot_graphs(grid=True, savefig=True, figsize=(30, 30))\n",
    "plt.close(\"all\")  # close all figures, just for precaution\n"
   ]
  },
  {
   "cell_type": "markdown",
   "metadata": {},
   "source": [
    "You can check the results in the following path: '.\\results\\USA-los_angeles_minors\\'"
   ]
  }
 ],
 "metadata": {
  "kernelspec": {
   "display_name": "Python 3.11.0 ('.venv_thesis': venv)",
   "language": "python",
   "name": "python3"
  },
  "language_info": {
   "codemirror_mode": {
    "name": "ipython",
    "version": 3
   },
   "file_extension": ".py",
   "mimetype": "text/x-python",
   "name": "python",
   "nbconvert_exporter": "python",
   "pygments_lexer": "ipython3",
   "version": "3.11.0"
  },
  "orig_nbformat": 4,
  "vscode": {
   "interpreter": {
    "hash": "d622039893e205a0dac916e8b6d15f3a1e57e0339c131dd2344a148905a4c1a6"
   }
  }
 },
 "nbformat": 4,
 "nbformat_minor": 2
}
