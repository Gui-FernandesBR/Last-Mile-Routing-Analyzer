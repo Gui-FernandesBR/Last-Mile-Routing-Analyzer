{
 "cells": [
  {
   "cell_type": "markdown",
   "metadata": {},
   "source": [
    "## Using google maps API to evaluate circuity factor"
   ]
  },
  {
   "cell_type": "markdown",
   "metadata": {},
   "source": [
    "### Load required libraries"
   ]
  },
  {
   "cell_type": "code",
   "execution_count": null,
   "metadata": {},
   "outputs": [],
   "source": [
    "# !pip install openpyxl\n",
    "# !pip install xlsxwriter"
   ]
  },
  {
   "cell_type": "code",
   "execution_count": 1,
   "metadata": {},
   "outputs": [],
   "source": [
    "import pandas as pd\n",
    "import googlemaps \n",
    "from datetime import datetime\n",
    "from time import process_time, perf_counter, time\n",
    "from math import radians, cos, sin, asin, sqrt\n",
    "# import openpyxl"
   ]
  },
  {
   "cell_type": "markdown",
   "metadata": {},
   "source": [
    "### Setting up the Google Maps API"
   ]
  },
  {
   "cell_type": "code",
   "execution_count": 3,
   "metadata": {},
   "outputs": [],
   "source": [
    "# Load googlemaps by using the API key\n",
    "# API keys are generated in the 'Credentials' page, refer to following:\n",
    "# https://developers.google.com/maps/documentation/geocoding/get-api-key\n",
    "gmaps = googlemaps.Client(key=\"Add Your Key here\")"
   ]
  },
  {
   "cell_type": "markdown",
   "metadata": {},
   "source": [
    "### Load both origins and destinations data available on excel file "
   ]
  },
  {
   "cell_type": "code",
   "execution_count": null,
   "metadata": {},
   "outputs": [],
   "source": [
    "wb_origins = pd.read_excel('distances_matrix_input.xlsx', sheet_name='origins', engine='openpyxl')\n",
    "\n",
    "wb_destinations = pd.read_excel('distances_matrix_input.xlsx', sheet_name='destinations', engine='openpyxl')"
   ]
  },
  {
   "cell_type": "code",
   "execution_count": null,
   "metadata": {},
   "outputs": [],
   "source": [
    "# Visualize origin points\n",
    "wb_origins "
   ]
  },
  {
   "cell_type": "code",
   "execution_count": null,
   "metadata": {},
   "outputs": [],
   "source": [
    "# Visualize destination points\n",
    "wb_destinations "
   ]
  },
  {
   "cell_type": "code",
   "execution_count": null,
   "metadata": {},
   "outputs": [],
   "source": [
    "print(\"Number of combinations Origin x Destinations: \", len(wb_destinations) * len(wb_origins))"
   ]
  },
  {
   "cell_type": "markdown",
   "metadata": {},
   "source": [
    "### Define auxiliary functions"
   ]
  },
  {
   "cell_type": "code",
   "execution_count": 4,
   "metadata": {},
   "outputs": [],
   "source": [
    "def haversine(lat1, lon1, lat2, lon2):\n",
    "    \"\"\"\n",
    "    Calculate the great circle distance in kilometers between two points \n",
    "    on the earth (specified in decimal degrees)\n",
    "    \"\"\"\n",
    "    # convert decimal degrees to radians \n",
    "    lon1, lat1, lon2, lat2 = map(radians, [lon1, lat1, lon2, lat2])\n",
    "\n",
    "    # haversine formula \n",
    "    dlon = lon2 - lon1 \n",
    "    dlat = lat2 - lat1 \n",
    "    a = sin(dlat/2)**2 + cos(lat1) * cos(lat2) * sin(dlon/2)**2\n",
    "    c = 2 * asin(sqrt(a)) \n",
    "    r = 6371 # Radius of earth in kilometers. Use 3956 for miles. Determines return value units.\n",
    "    return c * r"
   ]
  },
  {
   "cell_type": "markdown",
   "metadata": {},
   "source": [
    "### Start running the evaluation"
   ]
  },
  {
   "cell_type": "code",
   "execution_count": null,
   "metadata": {},
   "outputs": [],
   "source": [
    "distances = [[\"Origin\",\t\"Lat0\",\t\"Lon0\",\t\"Destination\",\t\"Lat1\",\t\"Lon1\",\t\"Driving Distance (m)\", \"Euclidean Distance (m)\", \"CF\"]]\n",
    "\n",
    "for index, l_origin in wb_origins.iterrows():\n",
    "    for index2, l_destination in wb_destinations.iterrows():\n",
    "        \n",
    "        getAPI = gmaps.distance_matrix(\n",
    "            str(l_origin['Lat0']) + \", \" + str(l_origin['Lon0']), \n",
    "            str(l_destination['Lat1']) + \", \" + str(l_destination['Lon1'])\n",
    "            )\n",
    "        \n",
    "        d_maps = getAPI['rows'][0]['elements'][0]['distance']['value']\n",
    "        \n",
    "        euclidean = 1000 * haversine(lat1=l_origin['Lat0'],\n",
    "                                     lon1=l_origin['Lon0'],\n",
    "                                     lat2=l_destination['Lat1'],\n",
    "                                     lon2=l_destination['Lon1'])\n",
    "\n",
    "        if abs(euclidean) > 1e-6:\n",
    "            circuity_factor = d_maps / euclidean \n",
    "        else:\n",
    "            circuity_factor = None\n",
    "\n",
    "        distances.append(\n",
    "            [str(l_origin['Origin']), l_origin['Lat0'], l_origin['Lon0'], \n",
    "            l_destination['Destination'], l_destination['Lat1'], l_destination['Lon1'], \n",
    "            d_maps, euclidean, circuity_factor]\n",
    "            )\n"
   ]
  },
  {
   "cell_type": "markdown",
   "metadata": {},
   "source": [
    "Write Excel file whitin distance matrix combinations"
   ]
  },
  {
   "cell_type": "code",
   "execution_count": null,
   "metadata": {},
   "outputs": [],
   "source": [
    "dist_df = pd.DataFrame(distances)\n",
    "with pd.ExcelWriter('evdist_circle_v1.xlsx', engine='xlsxwriter') as writer:\n",
    "    dist_df.to_excel(writer, sheet_name='distances')\n",
    "    writer.save()"
   ]
  },
  {
   "cell_type": "markdown",
   "metadata": {},
   "source": [
    "Segunda analise"
   ]
  },
  {
   "cell_type": "code",
   "execution_count": 21,
   "metadata": {},
   "outputs": [],
   "source": [
    "wb = pd.read_excel('CF_CoordinatesComplete_v1.xlsx', engine='openpyxl')"
   ]
  },
  {
   "cell_type": "code",
   "execution_count": 22,
   "metadata": {},
   "outputs": [
    {
     "data": {
      "text/html": [
       "<div>\n",
       "<style scoped>\n",
       "    .dataframe tbody tr th:only-of-type {\n",
       "        vertical-align: middle;\n",
       "    }\n",
       "\n",
       "    .dataframe tbody tr th {\n",
       "        vertical-align: top;\n",
       "    }\n",
       "\n",
       "    .dataframe thead th {\n",
       "        text-align: right;\n",
       "    }\n",
       "</style>\n",
       "<table border=\"1\" class=\"dataframe\">\n",
       "  <thead>\n",
       "    <tr style=\"text-align: right;\">\n",
       "      <th></th>\n",
       "      <th>T.L.</th>\n",
       "      <th>Origin</th>\n",
       "      <th>Lat0</th>\n",
       "      <th>Lon0</th>\n",
       "      <th>Destination</th>\n",
       "      <th>Lat1</th>\n",
       "      <th>Lon1</th>\n",
       "      <th>Driving Distance (m)</th>\n",
       "      <th>Euclidian Distance (m)</th>\n",
       "      <th>C.F.</th>\n",
       "    </tr>\n",
       "  </thead>\n",
       "  <tbody>\n",
       "    <tr>\n",
       "      <th>0</th>\n",
       "      <td>91600004-91600478</td>\n",
       "      <td>91600004</td>\n",
       "      <td>-23.446472</td>\n",
       "      <td>-46.516648</td>\n",
       "      <td>91600478</td>\n",
       "      <td>-23.444269</td>\n",
       "      <td>-46.514168</td>\n",
       "      <td>NaN</td>\n",
       "      <td>NaN</td>\n",
       "      <td>NaN</td>\n",
       "    </tr>\n",
       "    <tr>\n",
       "      <th>1</th>\n",
       "      <td>91600004-91600481</td>\n",
       "      <td>91600004</td>\n",
       "      <td>-23.446472</td>\n",
       "      <td>-46.516648</td>\n",
       "      <td>91600481</td>\n",
       "      <td>-23.448253</td>\n",
       "      <td>-46.513729</td>\n",
       "      <td>NaN</td>\n",
       "      <td>NaN</td>\n",
       "      <td>NaN</td>\n",
       "    </tr>\n",
       "    <tr>\n",
       "      <th>2</th>\n",
       "      <td>91600004-91600629</td>\n",
       "      <td>91600004</td>\n",
       "      <td>-23.446472</td>\n",
       "      <td>-46.516648</td>\n",
       "      <td>91600629</td>\n",
       "      <td>-23.442377</td>\n",
       "      <td>-46.521229</td>\n",
       "      <td>NaN</td>\n",
       "      <td>NaN</td>\n",
       "      <td>NaN</td>\n",
       "    </tr>\n",
       "    <tr>\n",
       "      <th>3</th>\n",
       "      <td>91600004-91600639</td>\n",
       "      <td>91600004</td>\n",
       "      <td>-23.446472</td>\n",
       "      <td>-46.516648</td>\n",
       "      <td>91600639</td>\n",
       "      <td>-23.449230</td>\n",
       "      <td>-46.516488</td>\n",
       "      <td>NaN</td>\n",
       "      <td>NaN</td>\n",
       "      <td>NaN</td>\n",
       "    </tr>\n",
       "    <tr>\n",
       "      <th>4</th>\n",
       "      <td>91600004-91600642</td>\n",
       "      <td>91600004</td>\n",
       "      <td>-23.446472</td>\n",
       "      <td>-46.516648</td>\n",
       "      <td>91600642</td>\n",
       "      <td>-23.441844</td>\n",
       "      <td>-46.515988</td>\n",
       "      <td>NaN</td>\n",
       "      <td>NaN</td>\n",
       "      <td>NaN</td>\n",
       "    </tr>\n",
       "    <tr>\n",
       "      <th>...</th>\n",
       "      <td>...</td>\n",
       "      <td>...</td>\n",
       "      <td>...</td>\n",
       "      <td>...</td>\n",
       "      <td>...</td>\n",
       "      <td>...</td>\n",
       "      <td>...</td>\n",
       "      <td>...</td>\n",
       "      <td>...</td>\n",
       "      <td>...</td>\n",
       "    </tr>\n",
       "    <tr>\n",
       "      <th>61867</th>\n",
       "      <td>CDD-91611018</td>\n",
       "      <td>CDD</td>\n",
       "      <td>-23.435424</td>\n",
       "      <td>-46.387575</td>\n",
       "      <td>91611018</td>\n",
       "      <td>-23.507389</td>\n",
       "      <td>-46.345410</td>\n",
       "      <td>NaN</td>\n",
       "      <td>NaN</td>\n",
       "      <td>NaN</td>\n",
       "    </tr>\n",
       "    <tr>\n",
       "      <th>61868</th>\n",
       "      <td>CDD-91603232</td>\n",
       "      <td>CDD</td>\n",
       "      <td>-23.435424</td>\n",
       "      <td>-46.387575</td>\n",
       "      <td>91603232</td>\n",
       "      <td>-23.446692</td>\n",
       "      <td>-46.547141</td>\n",
       "      <td>NaN</td>\n",
       "      <td>NaN</td>\n",
       "      <td>NaN</td>\n",
       "    </tr>\n",
       "    <tr>\n",
       "      <th>61869</th>\n",
       "      <td>CDD-91609505</td>\n",
       "      <td>CDD</td>\n",
       "      <td>-23.435424</td>\n",
       "      <td>-46.387575</td>\n",
       "      <td>91609505</td>\n",
       "      <td>-23.467108</td>\n",
       "      <td>-46.514980</td>\n",
       "      <td>NaN</td>\n",
       "      <td>NaN</td>\n",
       "      <td>NaN</td>\n",
       "    </tr>\n",
       "    <tr>\n",
       "      <th>61870</th>\n",
       "      <td>CDD-91603777</td>\n",
       "      <td>CDD</td>\n",
       "      <td>-23.435424</td>\n",
       "      <td>-46.387575</td>\n",
       "      <td>91603777</td>\n",
       "      <td>-23.462168</td>\n",
       "      <td>-46.428795</td>\n",
       "      <td>NaN</td>\n",
       "      <td>NaN</td>\n",
       "      <td>NaN</td>\n",
       "    </tr>\n",
       "    <tr>\n",
       "      <th>61871</th>\n",
       "      <td>CDD-91607704</td>\n",
       "      <td>CDD</td>\n",
       "      <td>-23.435424</td>\n",
       "      <td>-46.387575</td>\n",
       "      <td>91607704</td>\n",
       "      <td>-23.443659</td>\n",
       "      <td>-46.504462</td>\n",
       "      <td>NaN</td>\n",
       "      <td>NaN</td>\n",
       "      <td>NaN</td>\n",
       "    </tr>\n",
       "  </tbody>\n",
       "</table>\n",
       "<p>61872 rows × 10 columns</p>\n",
       "</div>"
      ],
      "text/plain": [
       "                    T.L.    Origin       Lat0       Lon0  Destination  \\\n",
       "0      91600004-91600478  91600004 -23.446472 -46.516648     91600478   \n",
       "1      91600004-91600481  91600004 -23.446472 -46.516648     91600481   \n",
       "2      91600004-91600629  91600004 -23.446472 -46.516648     91600629   \n",
       "3      91600004-91600639  91600004 -23.446472 -46.516648     91600639   \n",
       "4      91600004-91600642  91600004 -23.446472 -46.516648     91600642   \n",
       "...                  ...       ...        ...        ...          ...   \n",
       "61867       CDD-91611018       CDD -23.435424 -46.387575     91611018   \n",
       "61868       CDD-91603232       CDD -23.435424 -46.387575     91603232   \n",
       "61869       CDD-91609505       CDD -23.435424 -46.387575     91609505   \n",
       "61870       CDD-91603777       CDD -23.435424 -46.387575     91603777   \n",
       "61871       CDD-91607704       CDD -23.435424 -46.387575     91607704   \n",
       "\n",
       "            Lat1       Lon1  Driving Distance (m)  Euclidian Distance (m)  \\\n",
       "0     -23.444269 -46.514168                   NaN                     NaN   \n",
       "1     -23.448253 -46.513729                   NaN                     NaN   \n",
       "2     -23.442377 -46.521229                   NaN                     NaN   \n",
       "3     -23.449230 -46.516488                   NaN                     NaN   \n",
       "4     -23.441844 -46.515988                   NaN                     NaN   \n",
       "...          ...        ...                   ...                     ...   \n",
       "61867 -23.507389 -46.345410                   NaN                     NaN   \n",
       "61868 -23.446692 -46.547141                   NaN                     NaN   \n",
       "61869 -23.467108 -46.514980                   NaN                     NaN   \n",
       "61870 -23.462168 -46.428795                   NaN                     NaN   \n",
       "61871 -23.443659 -46.504462                   NaN                     NaN   \n",
       "\n",
       "       C.F.  \n",
       "0       NaN  \n",
       "1       NaN  \n",
       "2       NaN  \n",
       "3       NaN  \n",
       "4       NaN  \n",
       "...     ...  \n",
       "61867   NaN  \n",
       "61868   NaN  \n",
       "61869   NaN  \n",
       "61870   NaN  \n",
       "61871   NaN  \n",
       "\n",
       "[61872 rows x 10 columns]"
      ]
     },
     "execution_count": 22,
     "metadata": {},
     "output_type": "execute_result"
    }
   ],
   "source": [
    "wb"
   ]
  },
  {
   "cell_type": "code",
   "execution_count": 23,
   "metadata": {},
   "outputs": [],
   "source": [
    "distances = [[\"Origin\",\t\"Lat0\",\t\"Lon0\",\t\"Destination\",\t\"Lat1\",\t\"Lon1\",\t\"Driving Distance (m)\", \"Euclidean Distance (m)\", \"CF\"]]\n",
    "\n",
    "# i = 1\n",
    "\n",
    "# initial_wall_time = time()\n",
    "# initial_cpu_time = process_time()\n",
    "\n",
    "# out = display('Starting', display_id=True, )\n",
    "\n",
    "for index, line in wb.iterrows():\n",
    "    #if not np.isnan(line['Lat0']) and not np.isnan(line['Lat1']):\n",
    "    #if type(line['Lat0'])==float and type(line['Lat1'])==float:\n",
    "        #print(\"aqui\")\n",
    "        #print(str(line['Lat0']) + \", \" + str(line['Lon0']), str(line['Lat1']) + \", \" + str(line['Lon1']))\n",
    "    getAPI = gmaps.distance_matrix(str(line['Lat0']) + \", \" + str(line['Lon0']), str(line['Lat1']) + \", \" + str(line['Lon1']))\n",
    "    d_maps = getAPI['rows'][0]['elements'][0]['distance']['value']\n",
    "    #print(d_maps)\n",
    "    euclidean = 1000* haversine(lat1=line['Lat0'],\n",
    "                                lon1=line['Lon0'],\n",
    "                                lat2=line['Lat1'],\n",
    "                                lon2=line['Lon1'])\n",
    "    #print(euclidean)\n",
    "    #else:\n",
    "    #    d_maps = 0    \n",
    "    #    euclidean = 0\n",
    "    \n",
    "    # euclidean = 1000* haversine(lat1=line['Lat0'],\n",
    "    #                                 lon1=line['Lon0'],\n",
    "    #                                 lat2=line['Lat1'],\n",
    "    #                                 lon2=line['Lon1'])\n",
    "\n",
    "    if abs(euclidean) > 0.000001:\n",
    "        circuity_factor = d_maps / euclidean \n",
    "        distances.append([str(line['Origin']), line['Lat0'], line['Lon0'], line['Destination'], line['Lat1'], line['Lon1'], d_maps, euclidean, circuity_factor]\n",
    "        )\n",
    "    else:\n",
    "        circuity_factor = None\n",
    "        distances.append([str(line['Origin']), line['Lat0'], line['Lon0'], line['Destination'], line['Lat1'], line['Lon1'], d_maps, euclidean, circuity_factor]\n",
    "        )\n",
    "\n",
    "    # Register time\n",
    "    # out.update(f\"Current iteration: {i:06d} | Average Time per Iteration: {(process_time() - initial_cpu_time)/i:2.6f} s\")\n",
    "    # i+=1"
   ]
  },
  {
   "cell_type": "markdown",
   "metadata": {},
   "source": [
    "### Save the result file"
   ]
  },
  {
   "cell_type": "code",
   "execution_count": 24,
   "metadata": {},
   "outputs": [
    {
     "name": "stderr",
     "output_type": "stream",
     "text": [
      "C:\\Users\\guiga\\AppData\\Local\\Packages\\PythonSoftwareFoundation.Python.3.9_qbz5n2kfra8p0\\LocalCache\\local-packages\\Python39\\site-packages\\xlsxwriter\\workbook.py:339: UserWarning: Calling close() on already closed file.\n",
      "  warn(\"Calling close() on already closed file.\")\n"
     ]
    }
   ],
   "source": [
    "dist_df = pd.DataFrame(distances)\n",
    "with pd.ExcelWriter('CF_export_test.xlsx', engine='xlsxwriter') as writer:\n",
    "    dist_df.to_excel(writer, sheet_name='distances')\n",
    "    writer.save()"
   ]
  }
 ],
 "metadata": {
  "kernelspec": {
   "display_name": "Python 3.9.13 64-bit (windows store)",
   "language": "python",
   "name": "python3"
  },
  "language_info": {
   "codemirror_mode": {
    "name": "ipython",
    "version": 3
   },
   "file_extension": ".py",
   "mimetype": "text/x-python",
   "name": "python",
   "nbconvert_exporter": "python",
   "pygments_lexer": "ipython3",
   "version": "3.9.13"
  },
  "orig_nbformat": 4,
  "vscode": {
   "interpreter": {
    "hash": "bcb6b7db800af51c627c4a410077c05c1d3822ff2a9def2df31b69a98eb45510"
   }
  }
 },
 "nbformat": 4,
 "nbformat_minor": 2
}
