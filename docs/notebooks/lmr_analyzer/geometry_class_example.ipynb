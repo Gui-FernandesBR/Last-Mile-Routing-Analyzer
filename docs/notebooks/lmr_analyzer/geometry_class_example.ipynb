{
 "cells": [
  {
   "cell_type": "markdown",
   "metadata": {},
   "source": [
    "# lmr_analyzer.geometry module usage example\n",
    "\n",
    "by Guilherme Fernandes Alves, October 2022"
   ]
  },
  {
   "cell_type": "code",
   "execution_count": 1,
   "metadata": {},
   "outputs": [],
   "source": [
    "%load_ext autoreload\n",
    "%autoreload 2\n",
    "%matplotlib inline\n"
   ]
  },
  {
   "cell_type": "markdown",
   "metadata": {},
   "source": [
    "Import required modules:"
   ]
  },
  {
   "cell_type": "code",
   "execution_count": 20,
   "metadata": {},
   "outputs": [],
   "source": [
    "from lmr_analyzer import geometry\n",
    "import matplotlib.pyplot as plt\n",
    "import pandas as pd\n",
    "import numpy as np\n",
    "\n",
    "plt.style.use('seaborn-v0_8-dark-palette')\n"
   ]
  },
  {
   "cell_type": "markdown",
   "metadata": {},
   "source": [
    "## Initialize the geometry object:"
   ]
  },
  {
   "cell_type": "code",
   "execution_count": 3,
   "metadata": {},
   "outputs": [
    {
     "data": {
      "text/plain": [
       "'Completed 179 graphs using a total CPU time of: 384.8 s'"
      ]
     },
     "metadata": {},
     "output_type": "display_data"
    },
    {
     "name": "stdout",
     "output_type": "stream",
     "text": [
      "It was possible to create a graph for 179 of 179 polygons.\n",
      "Shapefile quality: 100 %\n"
     ]
    }
   ],
   "source": [
    "los_angeles = geometry(\n",
    "    name=\"los_angeles\",\n",
    "    shapefile=\"../../data/shapefiles/los_angeles_minors/los_angeles_minors.shp\",\n",
    ")\n"
   ]
  },
  {
   "cell_type": "markdown",
   "metadata": {},
   "source": [
    "## Basic Stats"
   ]
  },
  {
   "cell_type": "markdown",
   "metadata": {},
   "source": [
    "If everything went good, let's get some good statistics:"
   ]
  },
  {
   "cell_type": "code",
   "execution_count": 6,
   "metadata": {},
   "outputs": [
    {
     "data": {
      "text/plain": [
       "'Completed 179 basic stats calculation using a total CPU time of: 653.9 s'"
      ]
     },
     "metadata": {},
     "output_type": "display_data"
    },
    {
     "name": "stdout",
     "output_type": "stream",
     "text": [
      "It was possible to create a graph for 179 of 179 polygons.\n",
      "Basic stats quality: 100 %\n"
     ]
    }
   ],
   "source": [
    "los_angeles.evaluate_basic_stats()\n"
   ]
  },
  {
   "cell_type": "markdown",
   "metadata": {},
   "source": [
    "To visualize the basic statistics we just calculated:"
   ]
  },
  {
   "cell_type": "code",
   "execution_count": 21,
   "metadata": {},
   "outputs": [
    {
     "data": {
      "text/html": [
       "<div>\n",
       "<style scoped>\n",
       "    .dataframe tbody tr th:only-of-type {\n",
       "        vertical-align: middle;\n",
       "    }\n",
       "\n",
       "    .dataframe tbody tr th {\n",
       "        vertical-align: top;\n",
       "    }\n",
       "\n",
       "    .dataframe thead th {\n",
       "        text-align: right;\n",
       "    }\n",
       "</style>\n",
       "<table border=\"1\" class=\"dataframe\">\n",
       "  <thead>\n",
       "    <tr style=\"text-align: right;\">\n",
       "      <th></th>\n",
       "      <th>n</th>\n",
       "      <th>m</th>\n",
       "      <th>k_avg</th>\n",
       "      <th>edge_length_total</th>\n",
       "      <th>edge_length_avg</th>\n",
       "      <th>streets_per_node_avg</th>\n",
       "      <th>streets_per_node_counts</th>\n",
       "      <th>streets_per_node_proportions</th>\n",
       "      <th>intersection_count</th>\n",
       "      <th>street_length_total</th>\n",
       "      <th>street_segment_count</th>\n",
       "      <th>street_length_avg</th>\n",
       "      <th>circuity_avg</th>\n",
       "      <th>self_loop_proportion</th>\n",
       "      <th>name</th>\n",
       "    </tr>\n",
       "  </thead>\n",
       "  <tbody>\n",
       "    <tr>\n",
       "      <th>Boyle Heights</th>\n",
       "      <td>5401</td>\n",
       "      <td>9698</td>\n",
       "      <td>3.591187</td>\n",
       "      <td>440323.788</td>\n",
       "      <td>45.403567</td>\n",
       "      <td>2.215145</td>\n",
       "      <td>{0: 0, 1: 122, 2: 4273, 3: 740, 4: 255, 5: 10,...</td>\n",
       "      <td>{0: 0.0, 1: 0.022588409553786336, 2: 0.7911497...</td>\n",
       "      <td>5279</td>\n",
       "      <td>262023.669</td>\n",
       "      <td>5926</td>\n",
       "      <td>44.215941</td>\n",
       "      <td>1.0</td>\n",
       "      <td>0.0</td>\n",
       "      <td>Boyle Heights</td>\n",
       "    </tr>\n",
       "    <tr>\n",
       "      <th>Granada Hills</th>\n",
       "      <td>6030</td>\n",
       "      <td>12102</td>\n",
       "      <td>4.013930</td>\n",
       "      <td>535131.315</td>\n",
       "      <td>44.218420</td>\n",
       "      <td>2.143781</td>\n",
       "      <td>{0: 0, 1: 299, 2: 4825, 3: 648, 4: 256, 5: 2}</td>\n",
       "      <td>{0: 0.0, 1: 0.04958540630182421, 2: 0.80016583...</td>\n",
       "      <td>5731</td>\n",
       "      <td>285924.820</td>\n",
       "      <td>6418</td>\n",
       "      <td>44.550455</td>\n",
       "      <td>1.0</td>\n",
       "      <td>0.0</td>\n",
       "      <td>Granada Hills</td>\n",
       "    </tr>\n",
       "    <tr>\n",
       "      <th>Mid-City</th>\n",
       "      <td>2602</td>\n",
       "      <td>4846</td>\n",
       "      <td>3.724827</td>\n",
       "      <td>243087.010</td>\n",
       "      <td>50.162404</td>\n",
       "      <td>2.281706</td>\n",
       "      <td>{0: 0, 1: 61, 2: 1981, 3: 330, 4: 226, 5: 4}</td>\n",
       "      <td>{0: 0.0, 1: 0.023443504996156803, 2: 0.7613374...</td>\n",
       "      <td>2541</td>\n",
       "      <td>138090.750</td>\n",
       "      <td>2904</td>\n",
       "      <td>47.551911</td>\n",
       "      <td>1.0</td>\n",
       "      <td>0.0</td>\n",
       "      <td>Mid-City</td>\n",
       "    </tr>\n",
       "    <tr>\n",
       "      <th>Mid-Wilshire</th>\n",
       "      <td>1746</td>\n",
       "      <td>3583</td>\n",
       "      <td>4.104238</td>\n",
       "      <td>177539.665</td>\n",
       "      <td>49.550562</td>\n",
       "      <td>2.361970</td>\n",
       "      <td>{0: 0, 1: 24, 2: 1312, 3: 180, 4: 216, 5: 12, ...</td>\n",
       "      <td>{0: 0.0, 1: 0.013745704467353952, 2: 0.7514318...</td>\n",
       "      <td>1722</td>\n",
       "      <td>95885.791</td>\n",
       "      <td>2010</td>\n",
       "      <td>47.704374</td>\n",
       "      <td>1.0</td>\n",
       "      <td>0.0</td>\n",
       "      <td>Mid-Wilshire</td>\n",
       "    </tr>\n",
       "    <tr>\n",
       "      <th>East La Mirada</th>\n",
       "      <td>605</td>\n",
       "      <td>1194</td>\n",
       "      <td>3.947107</td>\n",
       "      <td>75335.962</td>\n",
       "      <td>63.095446</td>\n",
       "      <td>2.224793</td>\n",
       "      <td>{0: 0, 1: 66, 2: 376, 3: 124, 4: 39}</td>\n",
       "      <td>{0: 0.0, 1: 0.10909090909090909, 2: 0.62148760...</td>\n",
       "      <td>539</td>\n",
       "      <td>39925.853</td>\n",
       "      <td>655</td>\n",
       "      <td>60.955501</td>\n",
       "      <td>1.0</td>\n",
       "      <td>0.0</td>\n",
       "      <td>East La</td>\n",
       "    </tr>\n",
       "  </tbody>\n",
       "</table>\n",
       "</div>"
      ],
      "text/plain": [
       "                   n      m     k_avg  edge_length_total  edge_length_avg  \\\n",
       "Boyle Heights   5401   9698  3.591187         440323.788        45.403567   \n",
       "Granada Hills   6030  12102  4.013930         535131.315        44.218420   \n",
       "Mid-City        2602   4846  3.724827         243087.010        50.162404   \n",
       "Mid-Wilshire    1746   3583  4.104238         177539.665        49.550562   \n",
       "East La Mirada   605   1194  3.947107          75335.962        63.095446   \n",
       "\n",
       "                streets_per_node_avg  \\\n",
       "Boyle Heights               2.215145   \n",
       "Granada Hills               2.143781   \n",
       "Mid-City                    2.281706   \n",
       "Mid-Wilshire                2.361970   \n",
       "East La Mirada              2.224793   \n",
       "\n",
       "                                          streets_per_node_counts  \\\n",
       "Boyle Heights   {0: 0, 1: 122, 2: 4273, 3: 740, 4: 255, 5: 10,...   \n",
       "Granada Hills       {0: 0, 1: 299, 2: 4825, 3: 648, 4: 256, 5: 2}   \n",
       "Mid-City             {0: 0, 1: 61, 2: 1981, 3: 330, 4: 226, 5: 4}   \n",
       "Mid-Wilshire    {0: 0, 1: 24, 2: 1312, 3: 180, 4: 216, 5: 12, ...   \n",
       "East La Mirada               {0: 0, 1: 66, 2: 376, 3: 124, 4: 39}   \n",
       "\n",
       "                                     streets_per_node_proportions  \\\n",
       "Boyle Heights   {0: 0.0, 1: 0.022588409553786336, 2: 0.7911497...   \n",
       "Granada Hills   {0: 0.0, 1: 0.04958540630182421, 2: 0.80016583...   \n",
       "Mid-City        {0: 0.0, 1: 0.023443504996156803, 2: 0.7613374...   \n",
       "Mid-Wilshire    {0: 0.0, 1: 0.013745704467353952, 2: 0.7514318...   \n",
       "East La Mirada  {0: 0.0, 1: 0.10909090909090909, 2: 0.62148760...   \n",
       "\n",
       "                intersection_count  street_length_total  street_segment_count  \\\n",
       "Boyle Heights                 5279           262023.669                  5926   \n",
       "Granada Hills                 5731           285924.820                  6418   \n",
       "Mid-City                      2541           138090.750                  2904   \n",
       "Mid-Wilshire                  1722            95885.791                  2010   \n",
       "East La Mirada                 539            39925.853                   655   \n",
       "\n",
       "                street_length_avg  circuity_avg  self_loop_proportion  \\\n",
       "Boyle Heights           44.215941           1.0                   0.0   \n",
       "Granada Hills           44.550455           1.0                   0.0   \n",
       "Mid-City                47.551911           1.0                   0.0   \n",
       "Mid-Wilshire            47.704374           1.0                   0.0   \n",
       "East La Mirada          60.955501           1.0                   0.0   \n",
       "\n",
       "                         name  \n",
       "Boyle Heights   Boyle Heights  \n",
       "Granada Hills   Granada Hills  \n",
       "Mid-City             Mid-City  \n",
       "Mid-Wilshire     Mid-Wilshire  \n",
       "East La Mirada        East La  "
      ]
     },
     "execution_count": 21,
     "metadata": {},
     "output_type": "execute_result"
    }
   ],
   "source": [
    "los_angeles.attribute_table.head()\n"
   ]
  },
  {
   "cell_type": "markdown",
   "metadata": {},
   "source": [
    "## Street Orientation Problem"
   ]
  },
  {
   "cell_type": "code",
   "execution_count": 24,
   "metadata": {},
   "outputs": [
    {
     "data": {
      "text/plain": [
       "'Completed 179 street orientation calculation using a total CPU time of: 15.5 s'"
      ]
     },
     "metadata": {},
     "output_type": "display_data"
    }
   ],
   "source": [
    "los_angeles.evaluate_street_orientation()\n"
   ]
  },
  {
   "cell_type": "code",
   "execution_count": 25,
   "metadata": {},
   "outputs": [],
   "source": [
    "df_street_orientation = pd.DataFrame.from_dict(\n",
    "    los_angeles.street_orientation_dict, orient=\"index\"\n",
    ")\n"
   ]
  },
  {
   "cell_type": "code",
   "execution_count": 50,
   "metadata": {},
   "outputs": [],
   "source": [
    "los_angeles.plot_street_orientation_polar(\n",
    "    grid=False, savefig=True, dpi=300, figsize=(5,5)\n",
    ")\n",
    "plt.close(\"all\")  # close all figures, just for precaution\n"
   ]
  },
  {
   "cell_type": "markdown",
   "metadata": {},
   "source": [
    "# Visualize the attribute table"
   ]
  },
  {
   "cell_type": "code",
   "execution_count": 66,
   "metadata": {},
   "outputs": [],
   "source": [
    "los_angeles.create_attribute_table()"
   ]
  },
  {
   "cell_type": "code",
   "execution_count": 67,
   "metadata": {},
   "outputs": [
    {
     "data": {
      "text/html": [
       "<div>\n",
       "<style scoped>\n",
       "    .dataframe tbody tr th:only-of-type {\n",
       "        vertical-align: middle;\n",
       "    }\n",
       "\n",
       "    .dataframe tbody tr th {\n",
       "        vertical-align: top;\n",
       "    }\n",
       "\n",
       "    .dataframe thead th {\n",
       "        text-align: right;\n",
       "    }\n",
       "</style>\n",
       "<table border=\"1\" class=\"dataframe\">\n",
       "  <thead>\n",
       "    <tr style=\"text-align: right;\">\n",
       "      <th></th>\n",
       "      <th>n</th>\n",
       "      <th>m</th>\n",
       "      <th>k_avg</th>\n",
       "      <th>edge_length_total</th>\n",
       "      <th>edge_length_avg</th>\n",
       "      <th>streets_per_node_avg</th>\n",
       "      <th>streets_per_node_counts</th>\n",
       "      <th>streets_per_node_proportions</th>\n",
       "      <th>intersection_count</th>\n",
       "      <th>street_length_total</th>\n",
       "      <th>...</th>\n",
       "      <th>dominant_percentage</th>\n",
       "      <th>second_dominant_percentage</th>\n",
       "      <th>uniform_value</th>\n",
       "      <th>mean_deviation</th>\n",
       "      <th>quadratic_sum_deviation</th>\n",
       "      <th>mean</th>\n",
       "      <th>std</th>\n",
       "      <th>skew</th>\n",
       "      <th>kurt</th>\n",
       "      <th>name</th>\n",
       "    </tr>\n",
       "  </thead>\n",
       "  <tbody>\n",
       "    <tr>\n",
       "      <th>Boyle Heights</th>\n",
       "      <td>5401</td>\n",
       "      <td>9698</td>\n",
       "      <td>3.591187</td>\n",
       "      <td>440323.788</td>\n",
       "      <td>45.403567</td>\n",
       "      <td>2.215145</td>\n",
       "      <td>{0: 0, 1: 122, 2: 4273, 3: 740, 4: 255, 5: 10,...</td>\n",
       "      <td>{0: 0.0, 1: 0.022588409553786336, 2: 0.7911497...</td>\n",
       "      <td>5279</td>\n",
       "      <td>262023.669</td>\n",
       "      <td>...</td>\n",
       "      <td>26.933102</td>\n",
       "      <td>22.860556</td>\n",
       "      <td>511.555556</td>\n",
       "      <td>0.817908</td>\n",
       "      <td>28.329387</td>\n",
       "      <td>0.138055</td>\n",
       "      <td>0.647952</td>\n",
       "      <td>0.068952</td>\n",
       "      <td>1.481055</td>\n",
       "      <td>Boyle Heights</td>\n",
       "    </tr>\n",
       "    <tr>\n",
       "      <th>Granada Hills</th>\n",
       "      <td>6030</td>\n",
       "      <td>12102</td>\n",
       "      <td>4.013930</td>\n",
       "      <td>535131.315</td>\n",
       "      <td>44.218420</td>\n",
       "      <td>2.143781</td>\n",
       "      <td>{0: 0, 1: 299, 2: 4825, 3: 648, 4: 256, 5: 2}</td>\n",
       "      <td>{0: 0.0, 1: 0.04958540630182421, 2: 0.80016583...</td>\n",
       "      <td>5731</td>\n",
       "      <td>285924.820</td>\n",
       "      <td>...</td>\n",
       "      <td>20.341147</td>\n",
       "      <td>18.644532</td>\n",
       "      <td>609.055556</td>\n",
       "      <td>0.616249</td>\n",
       "      <td>15.057906</td>\n",
       "      <td>0.120140</td>\n",
       "      <td>0.662038</td>\n",
       "      <td>-0.032065</td>\n",
       "      <td>1.761075</td>\n",
       "      <td>Granada Hills</td>\n",
       "    </tr>\n",
       "    <tr>\n",
       "      <th>Mid-City</th>\n",
       "      <td>2602</td>\n",
       "      <td>4846</td>\n",
       "      <td>3.724827</td>\n",
       "      <td>243087.010</td>\n",
       "      <td>50.162404</td>\n",
       "      <td>2.281706</td>\n",
       "      <td>{0: 0, 1: 61, 2: 1981, 3: 330, 4: 226, 5: 4}</td>\n",
       "      <td>{0: 0.0, 1: 0.023443504996156803, 2: 0.7613374...</td>\n",
       "      <td>2541</td>\n",
       "      <td>138090.750</td>\n",
       "      <td>...</td>\n",
       "      <td>26.678031</td>\n",
       "      <td>21.265715</td>\n",
       "      <td>260.722222</td>\n",
       "      <td>0.808827</td>\n",
       "      <td>26.756171</td>\n",
       "      <td>0.274508</td>\n",
       "      <td>0.646660</td>\n",
       "      <td>-0.250278</td>\n",
       "      <td>1.591207</td>\n",
       "      <td>Mid-City</td>\n",
       "    </tr>\n",
       "    <tr>\n",
       "      <th>Mid-Wilshire</th>\n",
       "      <td>1746</td>\n",
       "      <td>3583</td>\n",
       "      <td>4.104238</td>\n",
       "      <td>177539.665</td>\n",
       "      <td>49.550562</td>\n",
       "      <td>2.361970</td>\n",
       "      <td>{0: 0, 1: 24, 2: 1312, 3: 180, 4: 216, 5: 12, ...</td>\n",
       "      <td>{0: 0.0, 1: 0.013745704467353952, 2: 0.7514318...</td>\n",
       "      <td>1722</td>\n",
       "      <td>95885.791</td>\n",
       "      <td>...</td>\n",
       "      <td>32.651852</td>\n",
       "      <td>18.400000</td>\n",
       "      <td>187.500000</td>\n",
       "      <td>0.950431</td>\n",
       "      <td>36.089522</td>\n",
       "      <td>0.404852</td>\n",
       "      <td>0.615369</td>\n",
       "      <td>-0.495265</td>\n",
       "      <td>1.772090</td>\n",
       "      <td>Mid-Wilshire</td>\n",
       "    </tr>\n",
       "    <tr>\n",
       "      <th>East La Mirada</th>\n",
       "      <td>605</td>\n",
       "      <td>1194</td>\n",
       "      <td>3.947107</td>\n",
       "      <td>75335.962</td>\n",
       "      <td>63.095446</td>\n",
       "      <td>2.224793</td>\n",
       "      <td>{0: 0, 1: 66, 2: 376, 3: 124, 4: 39}</td>\n",
       "      <td>{0: 0.0, 1: 0.10909090909090909, 2: 0.62148760...</td>\n",
       "      <td>539</td>\n",
       "      <td>39925.853</td>\n",
       "      <td>...</td>\n",
       "      <td>20.057859</td>\n",
       "      <td>14.946962</td>\n",
       "      <td>57.611111</td>\n",
       "      <td>0.829372</td>\n",
       "      <td>17.324659</td>\n",
       "      <td>0.098010</td>\n",
       "      <td>0.630324</td>\n",
       "      <td>-0.166888</td>\n",
       "      <td>2.083325</td>\n",
       "      <td>East La</td>\n",
       "    </tr>\n",
       "  </tbody>\n",
       "</table>\n",
       "<p>5 rows × 31 columns</p>\n",
       "</div>"
      ],
      "text/plain": [
       "                   n      m     k_avg  edge_length_total  edge_length_avg  \\\n",
       "Boyle Heights   5401   9698  3.591187         440323.788        45.403567   \n",
       "Granada Hills   6030  12102  4.013930         535131.315        44.218420   \n",
       "Mid-City        2602   4846  3.724827         243087.010        50.162404   \n",
       "Mid-Wilshire    1746   3583  4.104238         177539.665        49.550562   \n",
       "East La Mirada   605   1194  3.947107          75335.962        63.095446   \n",
       "\n",
       "                streets_per_node_avg  \\\n",
       "Boyle Heights               2.215145   \n",
       "Granada Hills               2.143781   \n",
       "Mid-City                    2.281706   \n",
       "Mid-Wilshire                2.361970   \n",
       "East La Mirada              2.224793   \n",
       "\n",
       "                                          streets_per_node_counts  \\\n",
       "Boyle Heights   {0: 0, 1: 122, 2: 4273, 3: 740, 4: 255, 5: 10,...   \n",
       "Granada Hills       {0: 0, 1: 299, 2: 4825, 3: 648, 4: 256, 5: 2}   \n",
       "Mid-City             {0: 0, 1: 61, 2: 1981, 3: 330, 4: 226, 5: 4}   \n",
       "Mid-Wilshire    {0: 0, 1: 24, 2: 1312, 3: 180, 4: 216, 5: 12, ...   \n",
       "East La Mirada               {0: 0, 1: 66, 2: 376, 3: 124, 4: 39}   \n",
       "\n",
       "                                     streets_per_node_proportions  \\\n",
       "Boyle Heights   {0: 0.0, 1: 0.022588409553786336, 2: 0.7911497...   \n",
       "Granada Hills   {0: 0.0, 1: 0.04958540630182421, 2: 0.80016583...   \n",
       "Mid-City        {0: 0.0, 1: 0.023443504996156803, 2: 0.7613374...   \n",
       "Mid-Wilshire    {0: 0.0, 1: 0.013745704467353952, 2: 0.7514318...   \n",
       "East La Mirada  {0: 0.0, 1: 0.10909090909090909, 2: 0.62148760...   \n",
       "\n",
       "                intersection_count  street_length_total  ...  \\\n",
       "Boyle Heights                 5279           262023.669  ...   \n",
       "Granada Hills                 5731           285924.820  ...   \n",
       "Mid-City                      2541           138090.750  ...   \n",
       "Mid-Wilshire                  1722            95885.791  ...   \n",
       "East La Mirada                 539            39925.853  ...   \n",
       "\n",
       "                dominant_percentage  second_dominant_percentage  \\\n",
       "Boyle Heights             26.933102                   22.860556   \n",
       "Granada Hills             20.341147                   18.644532   \n",
       "Mid-City                  26.678031                   21.265715   \n",
       "Mid-Wilshire              32.651852                   18.400000   \n",
       "East La Mirada            20.057859                   14.946962   \n",
       "\n",
       "                uniform_value  mean_deviation  quadratic_sum_deviation  \\\n",
       "Boyle Heights      511.555556        0.817908                28.329387   \n",
       "Granada Hills      609.055556        0.616249                15.057906   \n",
       "Mid-City           260.722222        0.808827                26.756171   \n",
       "Mid-Wilshire       187.500000        0.950431                36.089522   \n",
       "East La Mirada      57.611111        0.829372                17.324659   \n",
       "\n",
       "                    mean       std      skew      kurt           name  \n",
       "Boyle Heights   0.138055  0.647952  0.068952  1.481055  Boyle Heights  \n",
       "Granada Hills   0.120140  0.662038 -0.032065  1.761075  Granada Hills  \n",
       "Mid-City        0.274508  0.646660 -0.250278  1.591207       Mid-City  \n",
       "Mid-Wilshire    0.404852  0.615369 -0.495265  1.772090   Mid-Wilshire  \n",
       "East La Mirada  0.098010  0.630324 -0.166888  2.083325        East La  \n",
       "\n",
       "[5 rows x 31 columns]"
      ]
     },
     "execution_count": 67,
     "metadata": {},
     "output_type": "execute_result"
    }
   ],
   "source": [
    "los_angeles.attribute_table.head()"
   ]
  },
  {
   "cell_type": "markdown",
   "metadata": {},
   "source": [
    "## Saving as an .csv file:"
   ]
  },
  {
   "cell_type": "code",
   "execution_count": 65,
   "metadata": {},
   "outputs": [],
   "source": [
    "los_angeles.export_basic_stats_to_csv(\"los_angeles_basic_stats.csv\")\n"
   ]
  },
  {
   "cell_type": "code",
   "execution_count": 55,
   "metadata": {},
   "outputs": [],
   "source": [
    "los_angeles.export_street_orientation_to_csv(\"los_angeles_st_orientation.csv\")\n"
   ]
  },
  {
   "cell_type": "markdown",
   "metadata": {},
   "source": [
    "For plotting each of the graphs we have used:"
   ]
  },
  {
   "cell_type": "code",
   "execution_count": null,
   "metadata": {},
   "outputs": [],
   "source": [
    "los_angeles.plot_graphs(grid=False, savefig=True)\n",
    "# los_angeles.plot_graphs(grid=True, savefig=True, figsize=(30, 30))\n",
    "plt.close(\"all\")  # close all figures, just for precaution\n"
   ]
  }
 ],
 "metadata": {
  "kernelspec": {
   "display_name": "Python 3.11.0 ('.venv_thesis': venv)",
   "language": "python",
   "name": "python3"
  },
  "language_info": {
   "codemirror_mode": {
    "name": "ipython",
    "version": 3
   },
   "file_extension": ".py",
   "mimetype": "text/x-python",
   "name": "python",
   "nbconvert_exporter": "python",
   "pygments_lexer": "ipython3",
   "version": "3.11.0"
  },
  "orig_nbformat": 4,
  "vscode": {
   "interpreter": {
    "hash": "d622039893e205a0dac916e8b6d15f3a1e57e0339c131dd2344a148905a4c1a6"
   }
  }
 },
 "nbformat": 4,
 "nbformat_minor": 2
}
