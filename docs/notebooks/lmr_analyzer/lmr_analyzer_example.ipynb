{
 "cells": [
  {
   "cell_type": "markdown",
   "metadata": {},
   "source": [
    "# Amazon Last-Mile Route Challenge Data Analysis\n",
    "by Guilherme Fernandes Alves, Oct 2022 "
   ]
  },
  {
   "cell_type": "code",
   "execution_count": 1,
   "metadata": {},
   "outputs": [],
   "source": [
    "%load_ext autoreload\n",
    "%autoreload 2"
   ]
  },
  {
   "cell_type": "code",
   "execution_count": 2,
   "metadata": {},
   "outputs": [],
   "source": [
    "from datetime import datetime\n",
    "\n",
    "import boto3\n",
    "from botocore import UNSIGNED\n",
    "from botocore.config import Config\n",
    "\n",
    "import lmr_analyzer as lmr\n"
   ]
  },
  {
   "cell_type": "markdown",
   "metadata": {},
   "source": [
    "# Testing lmr_analyzer library"
   ]
  },
  {
   "cell_type": "markdown",
   "metadata": {},
   "source": [
    "Testing package object definition"
   ]
  },
  {
   "cell_type": "code",
   "execution_count": 3,
   "metadata": {},
   "outputs": [
    {
     "data": {
      "text/plain": [
       "{'name': 'example_pck',\n",
       " 'dimensions': (25, 10, 7),\n",
       " 'status': 'delivered',\n",
       " 'weight': 1.5,\n",
       " 'price': 9.9}"
      ]
     },
     "execution_count": 3,
     "metadata": {},
     "output_type": "execute_result"
    }
   ],
   "source": [
    "example_pck = lmr.package(\n",
    "    name=\"example_pck\",\n",
    "    dimensions=(25, 10, 7),  # width, height, length (cm)\n",
    "    status=\"delivered\",\n",
    "    weight=1.5,  # kg\n",
    "    price=9.90,  # $\n",
    ")\n",
    "\n",
    "example_pck.__dict__\n"
   ]
  },
  {
   "cell_type": "markdown",
   "metadata": {},
   "source": [
    "Testing stops objects definition"
   ]
  },
  {
   "cell_type": "code",
   "execution_count": 4,
   "metadata": {},
   "outputs": [
    {
     "data": {
      "text/plain": [
       "{'name': 'example_stp1',\n",
       " 'location': (0, 0),\n",
       " 'location_type': 'pickup',\n",
       " 'time_window': (datetime.datetime(2020, 1, 1, 8, 0),\n",
       "  datetime.datetime(2020, 1, 1, 8, 50)),\n",
       " 'packages': [<lmr_analyzer.package.package at 0x15ac94d3050>],\n",
       " 'planned_service_time': 0,\n",
       " 'packages_list': [<lmr_analyzer.package.package at 0x15ac94d3050>],\n",
       " 'status_list': ['delivered']}"
      ]
     },
     "execution_count": 4,
     "metadata": {},
     "output_type": "execute_result"
    }
   ],
   "source": [
    "example_stp1 = lmr.stop(\n",
    "    name=\"example_stp1\",\n",
    "    location=(0, 0),  # lat, lon\n",
    "    location_type=\"pickup\",\n",
    "    time_window=(datetime(2020, 1, 1, 8, 0), datetime(2020, 1, 1, 8, 50)),\n",
    "    packages=[example_pck],\n",
    "    planned_service_time=0,\n",
    ")\n",
    "example_stp2 = lmr.stop(\n",
    "    name=\"example_stp2\",\n",
    "    location=(0, 0),\n",
    "    location_type=\"pickup\",\n",
    "    time_window=(datetime(2020, 1, 1, 9, 0), datetime(2020, 1, 1, 9, 10)),\n",
    "    packages=[example_pck],\n",
    "    planned_service_time=0,\n",
    ")\n",
    "example_stp1.__dict__\n"
   ]
  },
  {
   "cell_type": "markdown",
   "metadata": {},
   "source": [
    "Testing route objects definition"
   ]
  },
  {
   "cell_type": "code",
   "execution_count": 5,
   "metadata": {},
   "outputs": [
    {
     "data": {
      "text/plain": [
       "{'name': 'r1',\n",
       " 'stops': {'example_stp1': <lmr_analyzer.stop.stop at 0x15acaa30510>,\n",
       "  'example_stp2': <lmr_analyzer.stop.stop at 0x15acaa32dd0>},\n",
       " 'departure_time': None,\n",
       " 'vehicle': None,\n",
       " 'stops_names': ['example_stp1', 'example_stp2'],\n",
       " 'number_of_stops': 2,\n",
       " 'actual_sequence': [<lmr_analyzer.stop.stop at 0x15acaa30510>,\n",
       "  <lmr_analyzer.stop.stop at 0x15acaa32dd0>],\n",
       " 'number_of_actual_stops': 2,\n",
       " 'actual_sequence_names': ['example_stp1', 'example_stp2']}"
      ]
     },
     "execution_count": 5,
     "metadata": {},
     "output_type": "execute_result"
    }
   ],
   "source": [
    "r1 = lmr.route(\n",
    "    name=\"r1\",\n",
    "    stops=[example_stp1, example_stp2],\n",
    ")\n",
    "r1.set_actual_sequence([\"example_stp1\", \"example_stp2\"])\n",
    "# r1.evaluate_route_scores()\n",
    "\n",
    "r1.__dict__\n"
   ]
  },
  {
   "cell_type": "code",
   "execution_count": 6,
   "metadata": {},
   "outputs": [
    {
     "data": {
      "text/plain": [
       "{'name': 'a1',\n",
       " 'routes': [<lmr_analyzer.route.route at 0x15ac91bb750>],\n",
       " 'routes_dict': {'r1': <lmr_analyzer.route.route at 0x15ac91bb750>}}"
      ]
     },
     "execution_count": 6,
     "metadata": {},
     "output_type": "execute_result"
    }
   ],
   "source": [
    "a1 = lmr.analysis(\n",
    "    name=\"a1\",\n",
    "    routes=[r1],\n",
    ")\n",
    "a1.__dict__\n"
   ]
  },
  {
   "cell_type": "markdown",
   "metadata": {},
   "source": [
    "# Serializing the data"
   ]
  },
  {
   "cell_type": "markdown",
   "metadata": {},
   "source": [
    "## Connecting to the Amazon database"
   ]
  },
  {
   "cell_type": "markdown",
   "metadata": {},
   "source": [
    "Create a boto3 object with anonymized credentials"
   ]
  },
  {
   "cell_type": "code",
   "execution_count": 7,
   "metadata": {},
   "outputs": [],
   "source": [
    "s3 = boto3.client(\"s3\", config=Config(signature_version=UNSIGNED))\n"
   ]
  },
  {
   "cell_type": "markdown",
   "metadata": {},
   "source": [
    "List all the files available in the database.\n",
    "It depends on your internet connection, it may take around 4 minutes.\n",
    "Could be a good idea to save files locally after downloading. "
   ]
  },
  {
   "cell_type": "code",
   "execution_count": 8,
   "metadata": {},
   "outputs": [
    {
     "name": "stdout",
     "output_type": "stream",
     "text": [
      "2022-06-03 04:51:31    9665078 actual_sequences.json\n",
      "2022-06-03 04:51:32     414742 invalid_sequence_scores.json\n",
      "2022-06-03 04:51:21  375437806 package_data.json\n",
      "2022-06-03 04:51:33         74 readme.md\n",
      "2022-06-03 04:51:21   78972162 route_data.json\n",
      "2022-06-03 04:51:21 1817146363 travel_times.json\n"
     ]
    }
   ],
   "source": [
    "!aws s3 ls --no-sign-request \"s3://amazon-last-mile-challenges/almrrc2021/almrrc2021-data-training/model_build_inputs/\""
   ]
  },
  {
   "cell_type": "markdown",
   "metadata": {},
   "source": [
    "Downloading the files"
   ]
  },
  {
   "cell_type": "code",
   "execution_count": null,
   "metadata": {},
   "outputs": [],
   "source": [
    "!aws s3 cp --no-sign-request \"s3://amazon-last-mile-challenges/almrrc2021/almrrc2021-data-training/model_build_inputs/\" ../../data/last_mile_data/amazon-last-mile-challenges/  --recursive "
   ]
  },
  {
   "cell_type": "markdown",
   "metadata": {},
   "source": [
    "## Run the serializing process"
   ]
  },
  {
   "cell_type": "code",
   "execution_count": 11,
   "metadata": {},
   "outputs": [
    {
     "name": "stdout",
     "output_type": "stream",
     "text": [
      "package_data.json has been loaded in 14.20 seconds.\n",
      "route_data.json has been loaded in 10.65 seconds.\n",
      "actual_sequences.json has been loaded in 0.95 seconds.\n",
      "We are ready to proceed. All files have been loaded in 25.79 seconds.\n"
     ]
    }
   ],
   "source": [
    "db = lmr.amz_serializer(\n",
    "    root_directory=\"../../data/last_mile_data/amazon-last-mile-challenges/\"\n",
    ")\n",
    "\n",
    "# Get some nicknames\n",
    "packages_dict, routes_dict = db.packages_dict, db.routes_dict\n"
   ]
  },
  {
   "cell_type": "code",
   "execution_count": 12,
   "metadata": {},
   "outputs": [
    {
     "name": "stdout",
     "output_type": "stream",
     "text": [
      "Number of routes in Los Angeles : 2876\n",
      "Number of routes in Seattle     : 1079\n",
      "Number of routes in Chicago     : 1002\n",
      "Number of routes in Boston      : 929\n",
      "Number of routes in Austin      : 214\n",
      "Total number of routes:          6100\n",
      "\n",
      "Percentage of routes in Los Angeles : 47.15%\n",
      "Percentage of routes in Seattle     : 17.69%\n",
      "Percentage of routes in Chicago     : 16.43%\n",
      "Percentage of routes in Boston      : 15.23%\n",
      "Percentage of routes in Austin      : 3.51%\n"
     ]
    }
   ],
   "source": [
    "db.print_info_by_city()\n"
   ]
  },
  {
   "cell_type": "markdown",
   "metadata": {},
   "source": [
    "# Create the distance matrix object"
   ]
  },
  {
   "cell_type": "code",
   "execution_count": null,
   "metadata": {},
   "outputs": [],
   "source": [
    "dist_matrix = lmr.distance_matrix()\n",
    "dist_matrix.load_support_matrix_file(\n",
    "    filename=\"../../data/driving_distances/los_angeles.csv\"\n",
    ")\n",
    "dist_matrix.calculate_matrix_statistics()\n",
    "dist_matrix.print_info()\n",
    "# TODO: Add a __get__ method to the distance_matrix class to return the matrix as a numpy array\n"
   ]
  },
  {
   "cell_type": "markdown",
   "metadata": {},
   "source": [
    "# Analyze the data"
   ]
  },
  {
   "cell_type": "code",
   "execution_count": null,
   "metadata": {},
   "outputs": [],
   "source": [
    "los_angeles = lmr.analysis(\n",
    "    name=\"los_angeles\",\n",
    "    routes=list(routes_dict[\"Los Angeles\"].values()),  # A list of route objects\n",
    ")\n"
   ]
  },
  {
   "cell_type": "markdown",
   "metadata": {},
   "source": [
    "Circuity Factor analysis"
   ]
  },
  {
   "cell_type": "code",
   "execution_count": null,
   "metadata": {},
   "outputs": [],
   "source": [
    "los_angeles.calculate_euclidean_distances(planned=False, actual=True)\n",
    "los_angeles.calculate_driving_distances(\n",
    "    planned=False, actual_distance_matrix=dist_matrix.routes_matrix\n",
    ")\n",
    "los_angeles.calculate_circuity_factor(planned=False, actual=True)\n"
   ]
  },
  {
   "cell_type": "code",
   "execution_count": null,
   "metadata": {},
   "outputs": [],
   "source": [
    "los_angeles.plot_circuity_factor()\n"
   ]
  },
  {
   "cell_type": "markdown",
   "metadata": {},
   "source": [
    "Packages status analysis"
   ]
  },
  {
   "cell_type": "code",
   "execution_count": null,
   "metadata": {},
   "outputs": [],
   "source": [
    "los_angeles.calculate_packages_status()\n"
   ]
  },
  {
   "cell_type": "markdown",
   "metadata": {},
   "source": [
    "Centroid analysis"
   ]
  },
  {
   "cell_type": "code",
   "execution_count": null,
   "metadata": {},
   "outputs": [],
   "source": [
    "los_angeles.calculate_centroids()\n"
   ]
  },
  {
   "cell_type": "markdown",
   "metadata": {},
   "source": [
    "Calculate bbox areas"
   ]
  },
  {
   "cell_type": "code",
   "execution_count": null,
   "metadata": {},
   "outputs": [],
   "source": [
    "los_angeles.calculate_each_route_bbox()\n"
   ]
  },
  {
   "cell_type": "code",
   "execution_count": null,
   "metadata": {},
   "outputs": [],
   "source": [
    "los_angeles.find_overall_bbox()\n"
   ]
  },
  {
   "cell_type": "markdown",
   "metadata": {},
   "source": [
    "Export data to CSV"
   ]
  },
  {
   "cell_type": "code",
   "execution_count": null,
   "metadata": {},
   "outputs": [],
   "source": [
    "los_angeles.summarize_by_routes()\n"
   ]
  },
  {
   "cell_type": "code",
   "execution_count": null,
   "metadata": {},
   "outputs": [],
   "source": [
    "los_angeles.export_summary_by_routes(filename=\"summary_by_routes_LA_18nov_v1.csv\")\n"
   ]
  }
 ],
 "metadata": {
  "kernelspec": {
   "display_name": "Python 3.11.0 ('.venv_thesis': venv)",
   "language": "python",
   "name": "python3"
  },
  "language_info": {
   "codemirror_mode": {
    "name": "ipython",
    "version": 3
   },
   "file_extension": ".py",
   "mimetype": "text/x-python",
   "name": "python",
   "nbconvert_exporter": "python",
   "pygments_lexer": "ipython3",
   "version": "3.11.0"
  },
  "orig_nbformat": 4,
  "vscode": {
   "interpreter": {
    "hash": "d622039893e205a0dac916e8b6d15f3a1e57e0339c131dd2344a148905a4c1a6"
   }
  }
 },
 "nbformat": 4,
 "nbformat_minor": 2
}
