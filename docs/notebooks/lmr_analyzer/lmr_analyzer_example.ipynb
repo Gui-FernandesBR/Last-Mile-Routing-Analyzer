{
 "cells": [
  {
   "attachments": {},
   "cell_type": "markdown",
   "metadata": {},
   "source": [
    "# lmr_analyzer Example\n",
    "by Guilherme Fernandes Alves, Oct 2022 "
   ]
  },
  {
   "cell_type": "code",
   "execution_count": 1,
   "metadata": {},
   "outputs": [],
   "source": [
    "%load_ext autoreload\n",
    "%autoreload 2"
   ]
  },
  {
   "cell_type": "code",
   "execution_count": null,
   "metadata": {},
   "outputs": [],
   "source": [
    "from datetime import datetime\n",
    "\n",
    "import boto3\n",
    "from botocore import UNSIGNED\n",
    "from botocore.config import Config\n",
    "\n",
    "import lmr_analyzer as lmr"
   ]
  },
  {
   "attachments": {},
   "cell_type": "markdown",
   "metadata": {},
   "source": [
    "## Testing lmr_analyzer library"
   ]
  },
  {
   "attachments": {},
   "cell_type": "markdown",
   "metadata": {},
   "source": [
    "Testing package object definition"
   ]
  },
  {
   "cell_type": "code",
   "execution_count": null,
   "metadata": {},
   "outputs": [],
   "source": [
    "example_pck = lmr.package(\n",
    "    name=\"example_pck\",\n",
    "    dimensions=(25, 10, 7),  # width, height, length (cm)\n",
    "    status=\"delivered\",\n",
    "    weight=1.5,  # kg\n",
    "    price=9.90,  # $\n",
    ")\n",
    "\n",
    "example_pck.__dict__"
   ]
  },
  {
   "attachments": {},
   "cell_type": "markdown",
   "metadata": {},
   "source": [
    "Testing stops objects definition"
   ]
  },
  {
   "cell_type": "code",
   "execution_count": null,
   "metadata": {},
   "outputs": [],
   "source": [
    "example_stp1 = lmr.stop(\n",
    "    name=\"example_stp1\",\n",
    "    location=(0, 0),  # lat, lon\n",
    "    location_type=\"pickup\",\n",
    "    time_window=(datetime(2020, 1, 1, 8, 0), datetime(2020, 1, 1, 8, 50)),\n",
    "    packages=[example_pck],\n",
    "    planned_service_time=0,\n",
    ")\n",
    "example_stp2 = lmr.stop(\n",
    "    name=\"example_stp2\",\n",
    "    location=(0, 0),\n",
    "    location_type=\"pickup\",\n",
    "    time_window=(datetime(2020, 1, 1, 9, 0), datetime(2020, 1, 1, 9, 10)),\n",
    "    packages=[example_pck],\n",
    "    planned_service_time=0,\n",
    ")\n",
    "example_stp1.__dict__"
   ]
  },
  {
   "attachments": {},
   "cell_type": "markdown",
   "metadata": {},
   "source": [
    "Testing route objects definition"
   ]
  },
  {
   "cell_type": "code",
   "execution_count": null,
   "metadata": {},
   "outputs": [],
   "source": [
    "r1 = lmr.route(\n",
    "    name=\"r1\",\n",
    "    stops=[example_stp1, example_stp2],\n",
    ")\n",
    "r1.set_actual_sequence([\"example_stp1\", \"example_stp2\"])\n",
    "# r1.evaluate_route_scores()\n",
    "\n",
    "r1.__dict__"
   ]
  },
  {
   "cell_type": "code",
   "execution_count": null,
   "metadata": {},
   "outputs": [],
   "source": [
    "a1 = lmr.analysis(\n",
    "    name=\"a1\",\n",
    "    routes=[r1],\n",
    ")\n",
    "a1.__dict__"
   ]
  },
  {
   "attachments": {},
   "cell_type": "markdown",
   "metadata": {},
   "source": [
    "## Serializing Amazon data"
   ]
  },
  {
   "attachments": {},
   "cell_type": "markdown",
   "metadata": {},
   "source": [
    "### Connecting to the Amazon database"
   ]
  },
  {
   "attachments": {},
   "cell_type": "markdown",
   "metadata": {},
   "source": [
    "Create a boto3 object with anonymized credentials"
   ]
  },
  {
   "cell_type": "code",
   "execution_count": null,
   "metadata": {},
   "outputs": [],
   "source": [
    "s3 = boto3.client(\"s3\", config=Config(signature_version=UNSIGNED))"
   ]
  },
  {
   "attachments": {},
   "cell_type": "markdown",
   "metadata": {},
   "source": [
    "List all the files available in the database.\n",
    "It depends on your internet connection, it may take around 4 minutes.\n",
    "Could be a good idea to save files locally after downloading. "
   ]
  },
  {
   "cell_type": "code",
   "execution_count": null,
   "metadata": {},
   "outputs": [],
   "source": [
    "!aws s3 ls --no-sign-request \"s3://amazon-last-mile-challenges/almrrc2021/almrrc2021-data-training/model_build_inputs/\""
   ]
  },
  {
   "attachments": {},
   "cell_type": "markdown",
   "metadata": {},
   "source": [
    "Downloading the files"
   ]
  },
  {
   "cell_type": "code",
   "execution_count": null,
   "metadata": {},
   "outputs": [],
   "source": [
    "!aws s3 cp --no-sign-request \"s3://amazon-last-mile-challenges/almrrc2021/almrrc2021-data-training/model_build_inputs/\" ../../data/last_mile_data/amazon-last-mile-challenges/  --recursive"
   ]
  },
  {
   "attachments": {},
   "cell_type": "markdown",
   "metadata": {},
   "source": [
    "### Run the serializing process"
   ]
  },
  {
   "cell_type": "code",
   "execution_count": 3,
   "metadata": {},
   "outputs": [
    {
     "name": "stdout",
     "output_type": "stream",
     "text": [
      "route_data.json has been loaded in 11.28 seconds.\n",
      "actual_sequences.json has been loaded in 1.36 seconds.\n",
      "We are ready to proceed. All files have been loaded in 28.48 seconds.\n"
     ]
    }
   ],
   "source": [
    "db = lmr.amzSerializer(\n",
    "    root_directory=\"../../data/last_mile_data/amazon-last-mile-challenges/\"\n",
    ")\n",
    "\n",
    "# Get some nicknames\n",
    "packages_dict, routes_dict = db.packages_dict, db.routes_dict"
   ]
  },
  {
   "cell_type": "code",
   "execution_count": 4,
   "metadata": {},
   "outputs": [
    {
     "name": "stdout",
     "output_type": "stream",
     "text": [
      "Number of routes in Los Angeles : 2876\n",
      "Number of routes in Seattle     : 1079\n",
      "Number of routes in Chicago     : 1002\n",
      "Number of routes in Boston      : 929\n",
      "Number of routes in Austin      : 214\n",
      "Total number of routes:          6100\n",
      "\n",
      "Percentage of routes in Los Angeles : 47.15%\n",
      "Percentage of routes in Seattle     : 17.69%\n",
      "Percentage of routes in Chicago     : 16.43%\n",
      "Percentage of routes in Boston      : 15.23%\n",
      "Percentage of routes in Austin      : 3.51%\n"
     ]
    }
   ],
   "source": [
    "db.print_info_by_city()"
   ]
  },
  {
   "attachments": {},
   "cell_type": "markdown",
   "metadata": {},
   "source": [
    "## Create the distanceMatrix object"
   ]
  },
  {
   "cell_type": "code",
   "execution_count": null,
   "metadata": {},
   "outputs": [],
   "source": [
    "dist_matrix = lmr.distanceMatrix()\n",
    "dist_matrix.load_support_matrix_file(\n",
    "    filename=\"../../data/driving_distances/los_angeles.csv\"\n",
    ")\n",
    "dist_matrix.calculate_matrix_statistics()\n",
    "dist_matrix.print_info()\n",
    "# TODO: Add a __get__ method to the distanceMatrix class to return the matrix as a numpy array"
   ]
  },
  {
   "attachments": {},
   "cell_type": "markdown",
   "metadata": {},
   "source": [
    "## Analyze the data"
   ]
  },
  {
   "cell_type": "code",
   "execution_count": null,
   "metadata": {},
   "outputs": [],
   "source": [
    "los_angeles = lmr.analysis(\n",
    "    name=\"los_angeles\",\n",
    "    routes=list(routes_dict[\"Los Angeles\"].values()),  # A list of route objects\n",
    ")\n",
    "\n",
    "los_angeles.calculate_euclidean_distances(planned=False, actual=True)\n",
    "los_angeles.calculate_driving_distances(\n",
    "    planned=False, actual_distance_matrix=dist_matrix.routes_matrix\n",
    ")\n",
    "los_angeles.calculate_circuity_factor(planned=False, actual=True)\n",
    "los_angeles.calculate_packages_status()\n",
    "los_angeles.calculate_centroids()\n",
    "los_angeles.calculate_each_route_bbox()\n",
    "los_angeles.find_overall_bbox()\n",
    "df_sum_la = los_angeles.summarize_by_routes()"
   ]
  },
  {
   "attachments": {},
   "cell_type": "markdown",
   "metadata": {},
   "source": [
    "## Going beyond"
   ]
  },
  {
   "cell_type": "code",
   "execution_count": null,
   "metadata": {},
   "outputs": [],
   "source": [
    "packages = 0\n",
    "rejected = 0\n",
    "failed_at = 0\n",
    "\n",
    "for route in df_sum_la.values():\n",
    "    packages += route.get(\"Number of packages\", 0)\n",
    "    rejected += route.get(\"Number of rejected packages\", 0)\n",
    "    failed_at += route.get(\"Number of failed attempted packages\", 0)\n",
    "\n",
    "# Calculate the percentage of rejected packages\n",
    "rejected_p = 100 * rejected / packages\n",
    "failed_p = 100 * failed_at / packages\n",
    "print(f\"Percentage of rejected packages: {rejected_p:.5}\")\n",
    "print(f\"Percentage of failed attempted packages: {failed_p:.5}\")"
   ]
  },
  {
   "attachments": {},
   "cell_type": "markdown",
   "metadata": {},
   "source": [
    "Export data to CSV"
   ]
  },
  {
   "cell_type": "code",
   "execution_count": null,
   "metadata": {},
   "outputs": [],
   "source": [
    "los_angeles.summarize_by_routes()"
   ]
  },
  {
   "cell_type": "code",
   "execution_count": null,
   "metadata": {},
   "outputs": [],
   "source": [
    "los_angeles.export_summary_by_routes(filename=\"export.csv\")"
   ]
  }
 ],
 "metadata": {
  "kernelspec": {
   "display_name": "Python 3",
   "language": "python",
   "name": "python3"
  },
  "language_info": {
   "codemirror_mode": {
    "name": "ipython",
    "version": 3
   },
   "file_extension": ".py",
   "mimetype": "text/x-python",
   "name": "python",
   "nbconvert_exporter": "python",
   "pygments_lexer": "ipython3",
   "version": "3.10.9"
  },
  "orig_nbformat": 4,
  "vscode": {
   "interpreter": {
    "hash": "5238573367df39f7286bb46f9ff5f08f63a01a80960060ce41e3c79b190280fa"
   }
  }
 },
 "nbformat": 4,
 "nbformat_minor": 2
}
