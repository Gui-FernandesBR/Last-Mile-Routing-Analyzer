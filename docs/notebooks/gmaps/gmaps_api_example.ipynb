{
 "cells": [
  {
   "cell_type": "markdown",
   "metadata": {},
   "source": [
    "## Using google maps API to evaluate circuity factor\n",
    "by Guilherme Fernandes Alves, May 2022"
   ]
  },
  {
   "cell_type": "markdown",
   "metadata": {},
   "source": [
    "### Load required libraries"
   ]
  },
  {
   "cell_type": "code",
   "execution_count": 1,
   "metadata": {},
   "outputs": [],
   "source": [
    "import pandas as pd\n",
    "import googlemaps\n",
    "from math import radians, cos, sin, asin, sqrt"
   ]
  },
  {
   "cell_type": "markdown",
   "metadata": {},
   "source": [
    "### Setting up the Google Maps API"
   ]
  },
  {
   "cell_type": "code",
   "execution_count": 3,
   "metadata": {},
   "outputs": [],
   "source": [
    "# Load googlemaps by using the API key\n",
    "# API keys are generated in the 'Credentials' page, refer to following:\n",
    "# https://developers.google.com/maps/documentation/geocoding/get-api-key\n",
    "gmaps = googlemaps.Client(key=\"Add Your Key here\")"
   ]
  },
  {
   "cell_type": "markdown",
   "metadata": {},
   "source": [
    "### Load both origins and destinations data available on excel file "
   ]
  },
  {
   "cell_type": "code",
   "execution_count": null,
   "metadata": {},
   "outputs": [],
   "source": [
    "wb_origins = pd.read_csv(\"origins.csv\", encoding=\"utf-8\")\n",
    "\n",
    "wb_destinations = pd.read_csv(\"destinations.csv\", encoding=\"utf-8\")"
   ]
  },
  {
   "cell_type": "markdown",
   "metadata": {},
   "source": [
    "Visualize origin points"
   ]
  },
  {
   "cell_type": "code",
   "execution_count": null,
   "metadata": {},
   "outputs": [],
   "source": [
    "wb_origins.head()"
   ]
  },
  {
   "cell_type": "markdown",
   "metadata": {},
   "source": [
    "Visualize destination points"
   ]
  },
  {
   "cell_type": "code",
   "execution_count": null,
   "metadata": {},
   "outputs": [],
   "source": [
    "wb_destinations.head()"
   ]
  },
  {
   "cell_type": "code",
   "execution_count": null,
   "metadata": {},
   "outputs": [],
   "source": [
    "def print_matrix_length(wb_origins, wb_destinations):\n",
    "    \"\"\"Simple function to print the length of the matrix\n",
    "\n",
    "    Parameters\n",
    "    ----------\n",
    "    wb_origins : pandas.DataFrame\n",
    "        Origin points\n",
    "    wb_destinations : pandas.DataFrame\n",
    "        Destination points\n",
    "    \"\"\"\n",
    "    print(\n",
    "        \"The matrix will have {} rows and {} columns\".format(\n",
    "            len(wb_origins), len(wb_destinations)\n",
    "        )\n",
    "    )\n",
    "    print(\n",
    "        \"Number of combinations Origin x Destinations: \",\n",
    "        len(wb_destinations) * len(wb_origins),\n",
    "    )\n",
    "\n",
    "\n",
    "print_matrix_length(wb_origins, wb_destinations)"
   ]
  },
  {
   "cell_type": "markdown",
   "metadata": {},
   "source": [
    "### Define auxiliary functions"
   ]
  },
  {
   "cell_type": "code",
   "execution_count": 4,
   "metadata": {},
   "outputs": [],
   "source": [
    "from lmr_analyzer.utils import Haversine as haversine"
   ]
  },
  {
   "cell_type": "markdown",
   "metadata": {},
   "source": [
    "### Start running the evaluation"
   ]
  },
  {
   "cell_type": "code",
   "execution_count": null,
   "metadata": {},
   "outputs": [],
   "source": [
    "def calculate_distanceMatrix_table(wb_origins, wb_destinations):\n",
    "    distances = [\n",
    "        [\n",
    "            \"Origin\",\n",
    "            \"Lat0\",\n",
    "            \"Lon0\",\n",
    "            \"Destination\",\n",
    "            \"Lat1\",\n",
    "            \"Lon1\",\n",
    "            \"Driving Distance (m)\",\n",
    "            \"Euclidean Distance (m)\",\n",
    "            \"Circuity Factor\",\n",
    "        ]\n",
    "    ]\n",
    "\n",
    "    # Iterate over the origins\n",
    "    for _, l_origin in wb_origins.iterrows():\n",
    "        # Iterate over the destinations\n",
    "        for _, l_destination in wb_destinations.iterrows():\n",
    "            # Calculate the drive distance between the origin and the destination\n",
    "            getAPI = gmaps.distanceMatrix(\n",
    "                str(l_origin[\"Lat0\"]) + \", \" + str(l_origin[\"Lon0\"]),\n",
    "                str(l_destination[\"Lat1\"]) + \", \" + str(l_destination[\"Lon1\"]),\n",
    "            )\n",
    "\n",
    "            # Save the drive distance in a temporary variable\n",
    "            d_maps = getAPI[\"rows\"][0][\"elements\"][0][\"distance\"][\"value\"]\n",
    "\n",
    "            # Calculate the euclidean distance between the origin and the destination in meters\n",
    "            euclidean = 1000 * haversine(\n",
    "                lat1=l_origin[\"Lat0\"],\n",
    "                lon1=l_origin[\"Lon0\"],\n",
    "                lat2=l_destination[\"Lat1\"],\n",
    "                lon2=l_destination[\"Lon1\"],\n",
    "            )\n",
    "\n",
    "            # Calculate the circuity factor\n",
    "            try:\n",
    "                circuity_factor = d_maps / euclidean\n",
    "            except ZeroDivisionError:\n",
    "                circuity_factor = None\n",
    "\n",
    "            # Append the results to the distances list\n",
    "            distances.append(\n",
    "                [\n",
    "                    str(l_origin[\"Origin\"]),\n",
    "                    l_origin[\"Lat0\"],\n",
    "                    l_origin[\"Lon0\"],\n",
    "                    l_destination[\"Destination\"],\n",
    "                    l_destination[\"Lat1\"],\n",
    "                    l_destination[\"Lon1\"],\n",
    "                    d_maps,\n",
    "                    euclidean,\n",
    "                    circuity_factor,\n",
    "                ]\n",
    "            )\n",
    "\n",
    "    return distances\n",
    "\n",
    "\n",
    "# Run the function\n",
    "distances = calculate_distanceMatrix_table(wb_origins, wb_destinations)\n",
    "distances"
   ]
  },
  {
   "cell_type": "markdown",
   "metadata": {},
   "source": [
    "Write Excel file whitin distance matrix combinations"
   ]
  },
  {
   "cell_type": "code",
   "execution_count": null,
   "metadata": {},
   "outputs": [],
   "source": [
    "with open(\"distances.csv\", \"w\", encoding=\"utf-8\") as f:\n",
    "    for item in distances:\n",
    "        f.write(\"%s \\n\" % item)"
   ]
  }
 ],
 "metadata": {
  "kernelspec": {
   "display_name": ".venv",
   "language": "python",
   "name": "python3"
  },
  "language_info": {
   "codemirror_mode": {
    "name": "ipython",
    "version": 3
   },
   "file_extension": ".py",
   "mimetype": "text/x-python",
   "name": "python",
   "nbconvert_exporter": "python",
   "pygments_lexer": "ipython3",
   "version": "3.11.0 (main, Oct 24 2022, 18:26:48) [MSC v.1933 64 bit (AMD64)]"
  },
  "orig_nbformat": 4,
  "vscode": {
   "interpreter": {
    "hash": "35c907fede02b6e853288d5c63cdb950095b00e89487cc721e2797d5e7a2020f"
   }
  }
 },
 "nbformat": 4,
 "nbformat_minor": 2
}
