{
 "cells": [
  {
   "attachments": {},
   "cell_type": "markdown",
   "metadata": {},
   "source": [
    "# Geopandas example"
   ]
  },
  {
   "attachments": {},
   "cell_type": "markdown",
   "metadata": {
    "id": "fV25k8wt-8n5"
   },
   "source": [
    "Let's start by installing the required libraries"
   ]
  },
  {
   "cell_type": "code",
   "execution_count": null,
   "metadata": {},
   "outputs": [],
   "source": [
    "%pip install folium matplotlib mapclassify geopandas"
   ]
  },
  {
   "cell_type": "code",
   "execution_count": null,
   "metadata": {
    "executionInfo": {
     "elapsed": 5,
     "status": "ok",
     "timestamp": 1663233295628,
     "user": {
      "displayName": "Guilherme Fernandes Alves",
      "userId": "02170755355595325018"
     },
     "user_tz": -120
    },
    "id": "Qit-SIXcyO-q"
   },
   "outputs": [],
   "source": [
    "%load_ext autoreload\n",
    "%autoreload 2"
   ]
  },
  {
   "cell_type": "code",
   "execution_count": 13,
   "metadata": {
    "executionInfo": {
     "elapsed": 722,
     "status": "ok",
     "timestamp": 1663233308639,
     "user": {
      "displayName": "Guilherme Fernandes Alves",
      "userId": "02170755355595325018"
     },
     "user_tz": -120
    },
    "id": "nCzGbgr4yO-y"
   },
   "outputs": [],
   "source": [
    "import geopandas as gpd"
   ]
  },
  {
   "attachments": {},
   "cell_type": "markdown",
   "metadata": {
    "id": "WuXDgb5C_iUU"
   },
   "source": [
    "### Reading a shapefile"
   ]
  },
  {
   "cell_type": "code",
   "execution_count": null,
   "metadata": {
    "colab": {
     "base_uri": "https://localhost:8080/",
     "height": 1000
    },
    "executionInfo": {
     "elapsed": 1915,
     "status": "ok",
     "timestamp": 1663233331395,
     "user": {
      "displayName": "Guilherme Fernandes Alves",
      "userId": "02170755355595325018"
     },
     "user_tz": -120
    },
    "id": "xl9zw4SU3GWi",
    "outputId": "3f36ce5e-75ea-4f77-a8c9-5b4badb42ca9"
   },
   "outputs": [],
   "source": [
    "gdf = gpd.read_file(\"../../data/shapefiles/guarulhos_osm/guarulhos_osm.shp\")\n",
    "gdf"
   ]
  },
  {
   "attachments": {},
   "cell_type": "markdown",
   "metadata": {},
   "source": [
    "### Basic configurations"
   ]
  },
  {
   "cell_type": "code",
   "execution_count": 15,
   "metadata": {
    "executionInfo": {
     "elapsed": 8,
     "status": "ok",
     "timestamp": 1663233331396,
     "user": {
      "displayName": "Guilherme Fernandes Alves",
      "userId": "02170755355595325018"
     },
     "user_tz": -120
    },
    "id": "uDOq7N6o5HyJ"
   },
   "outputs": [],
   "source": [
    "# Identify the name of the column that contains the index\n",
    "gdf = gdf.set_index(\"Name\")"
   ]
  },
  {
   "cell_type": "code",
   "execution_count": null,
   "metadata": {
    "colab": {
     "base_uri": "https://localhost:8080/"
    },
    "executionInfo": {
     "elapsed": 331,
     "status": "ok",
     "timestamp": 1663233345753,
     "user": {
      "displayName": "Guilherme Fernandes Alves",
      "userId": "02170755355595325018"
     },
     "user_tz": -120
    },
    "id": "ydTwlIX24xte",
    "outputId": "e95a1260-54f0-462c-8291-7d77095c92de"
   },
   "outputs": [],
   "source": [
    "# Calculate the area of each polygon\n",
    "gdf[\"area\"] = gdf.area\n",
    "gdf[\"area\"]"
   ]
  },
  {
   "cell_type": "code",
   "execution_count": null,
   "metadata": {
    "id": "OIcsH-P-5V3Z"
   },
   "outputs": [],
   "source": [
    "# Calculate the centroid of each polygon\n",
    "gdf[\"centroid\"] = gdf.centroid\n",
    "gdf[\"centroid\"]"
   ]
  },
  {
   "attachments": {},
   "cell_type": "markdown",
   "metadata": {},
   "source": [
    "### Plotting the (geo)dataframe"
   ]
  },
  {
   "cell_type": "code",
   "execution_count": null,
   "metadata": {
    "id": "-dQkjxQl7dky"
   },
   "outputs": [],
   "source": [
    "# Plots with matplotlib\n",
    "gdf.plot(\"area\", legend=True)"
   ]
  },
  {
   "cell_type": "code",
   "execution_count": null,
   "metadata": {
    "colab": {
     "base_uri": "https://localhost:8080/",
     "height": 689
    },
    "executionInfo": {
     "elapsed": 584,
     "status": "ok",
     "timestamp": 1663233350244,
     "user": {
      "displayName": "Guilherme Fernandes Alves",
      "userId": "02170755355595325018"
     },
     "user_tz": -120
    },
    "id": "Ec1noX3H72C5",
    "outputId": "4b724700-a0dc-4218-9467-7911e994f279"
   },
   "outputs": [],
   "source": [
    "# Plots with folium\n",
    "# The 'folium', 'matplotlib' and 'mapclassify' packages are required for 'explore()\n",
    "gdf.explore(\"area\", legend=True)"
   ]
  }
 ],
 "metadata": {
  "colab": {
   "collapsed_sections": [],
   "provenance": []
  },
  "kernelspec": {
   "display_name": ".venv",
   "language": "python",
   "name": "python3"
  },
  "language_info": {
   "codemirror_mode": {
    "name": "ipython",
    "version": 3
   },
   "file_extension": ".py",
   "mimetype": "text/x-python",
   "name": "python",
   "nbconvert_exporter": "python",
   "pygments_lexer": "ipython3",
   "version": "3.12.4"
  },
  "orig_nbformat": 4,
  "vscode": {
   "interpreter": {
    "hash": "35c907fede02b6e853288d5c63cdb950095b00e89487cc721e2797d5e7a2020f"
   }
  }
 },
 "nbformat": 4,
 "nbformat_minor": 0
}
